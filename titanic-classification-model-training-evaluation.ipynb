{
 "cells": [
  {
   "cell_type": "markdown",
   "metadata": {
    "_cell_guid": "b1076dfc-b9ad-4769-8c92-a6c4dae69d19",
    "_uuid": "8f2839f25d086af736a60e9eeb907d3b93b6e0e5",
    "execution": {
     "iopub.execute_input": "2024-04-04T20:01:46.073831Z",
     "iopub.status.busy": "2024-04-04T20:01:46.073427Z",
     "iopub.status.idle": "2024-04-04T20:01:47.358776Z",
     "shell.execute_reply": "2024-04-04T20:01:47.357564Z",
     "shell.execute_reply.started": "2024-04-04T20:01:46.073798Z"
    }
   },
   "source": [
    "# Classification Model Training and Evaluations for Titanic Dataset\n",
    "\n",
    "In this notebook, we will use train some models, and use them for classification on Titanic dataset. Starting from Logistic Regression, we will use Ridge and Lasso Regression, kNN classification, Bayes classification, Linear & Polynomial & Gaussian SVM, Decision Tree, Random Forest and AdaBoost.\n",
    "\n",
    "After that, we will print their scores for performance evaluation, and make a comparison between them. That's how we get a chance for selecting the best one.\n",
    "\n",
    "Firstly, let's import the <code>train</code> dataset and print the first 5 columns of it."
   ]
  },
  {
   "cell_type": "code",
   "execution_count": 1,
   "metadata": {
    "execution": {
     "iopub.execute_input": "2024-04-06T20:11:17.455041Z",
     "iopub.status.busy": "2024-04-06T20:11:17.454643Z",
     "iopub.status.idle": "2024-04-06T20:11:18.578497Z",
     "shell.execute_reply": "2024-04-06T20:11:18.577530Z",
     "shell.execute_reply.started": "2024-04-06T20:11:17.455006Z"
    }
   },
   "outputs": [
    {
     "data": {
      "text/html": [
       "<div>\n",
       "<style scoped>\n",
       "    .dataframe tbody tr th:only-of-type {\n",
       "        vertical-align: middle;\n",
       "    }\n",
       "\n",
       "    .dataframe tbody tr th {\n",
       "        vertical-align: top;\n",
       "    }\n",
       "\n",
       "    .dataframe thead th {\n",
       "        text-align: right;\n",
       "    }\n",
       "</style>\n",
       "<table border=\"1\" class=\"dataframe\">\n",
       "  <thead>\n",
       "    <tr style=\"text-align: right;\">\n",
       "      <th></th>\n",
       "      <th>PassengerId</th>\n",
       "      <th>Survived</th>\n",
       "      <th>Pclass</th>\n",
       "      <th>Name</th>\n",
       "      <th>Sex</th>\n",
       "      <th>Age</th>\n",
       "      <th>SibSp</th>\n",
       "      <th>Parch</th>\n",
       "      <th>Ticket</th>\n",
       "      <th>Fare</th>\n",
       "      <th>Cabin</th>\n",
       "      <th>Embarked</th>\n",
       "    </tr>\n",
       "  </thead>\n",
       "  <tbody>\n",
       "    <tr>\n",
       "      <th>0</th>\n",
       "      <td>1</td>\n",
       "      <td>0</td>\n",
       "      <td>3</td>\n",
       "      <td>Braund, Mr. Owen Harris</td>\n",
       "      <td>male</td>\n",
       "      <td>22.0</td>\n",
       "      <td>1</td>\n",
       "      <td>0</td>\n",
       "      <td>A/5 21171</td>\n",
       "      <td>7.2500</td>\n",
       "      <td>NaN</td>\n",
       "      <td>S</td>\n",
       "    </tr>\n",
       "    <tr>\n",
       "      <th>1</th>\n",
       "      <td>2</td>\n",
       "      <td>1</td>\n",
       "      <td>1</td>\n",
       "      <td>Cumings, Mrs. John Bradley (Florence Briggs Th...</td>\n",
       "      <td>female</td>\n",
       "      <td>38.0</td>\n",
       "      <td>1</td>\n",
       "      <td>0</td>\n",
       "      <td>PC 17599</td>\n",
       "      <td>71.2833</td>\n",
       "      <td>C85</td>\n",
       "      <td>C</td>\n",
       "    </tr>\n",
       "    <tr>\n",
       "      <th>2</th>\n",
       "      <td>3</td>\n",
       "      <td>1</td>\n",
       "      <td>3</td>\n",
       "      <td>Heikkinen, Miss. Laina</td>\n",
       "      <td>female</td>\n",
       "      <td>26.0</td>\n",
       "      <td>0</td>\n",
       "      <td>0</td>\n",
       "      <td>STON/O2. 3101282</td>\n",
       "      <td>7.9250</td>\n",
       "      <td>NaN</td>\n",
       "      <td>S</td>\n",
       "    </tr>\n",
       "    <tr>\n",
       "      <th>3</th>\n",
       "      <td>4</td>\n",
       "      <td>1</td>\n",
       "      <td>1</td>\n",
       "      <td>Futrelle, Mrs. Jacques Heath (Lily May Peel)</td>\n",
       "      <td>female</td>\n",
       "      <td>35.0</td>\n",
       "      <td>1</td>\n",
       "      <td>0</td>\n",
       "      <td>113803</td>\n",
       "      <td>53.1000</td>\n",
       "      <td>C123</td>\n",
       "      <td>S</td>\n",
       "    </tr>\n",
       "    <tr>\n",
       "      <th>4</th>\n",
       "      <td>5</td>\n",
       "      <td>0</td>\n",
       "      <td>3</td>\n",
       "      <td>Allen, Mr. William Henry</td>\n",
       "      <td>male</td>\n",
       "      <td>35.0</td>\n",
       "      <td>0</td>\n",
       "      <td>0</td>\n",
       "      <td>373450</td>\n",
       "      <td>8.0500</td>\n",
       "      <td>NaN</td>\n",
       "      <td>S</td>\n",
       "    </tr>\n",
       "  </tbody>\n",
       "</table>\n",
       "</div>"
      ],
      "text/plain": [
       "   PassengerId  Survived  Pclass  \\\n",
       "0            1         0       3   \n",
       "1            2         1       1   \n",
       "2            3         1       3   \n",
       "3            4         1       1   \n",
       "4            5         0       3   \n",
       "\n",
       "                                                Name     Sex   Age  SibSp  \\\n",
       "0                            Braund, Mr. Owen Harris    male  22.0      1   \n",
       "1  Cumings, Mrs. John Bradley (Florence Briggs Th...  female  38.0      1   \n",
       "2                             Heikkinen, Miss. Laina  female  26.0      0   \n",
       "3       Futrelle, Mrs. Jacques Heath (Lily May Peel)  female  35.0      1   \n",
       "4                           Allen, Mr. William Henry    male  35.0      0   \n",
       "\n",
       "   Parch            Ticket     Fare Cabin Embarked  \n",
       "0      0         A/5 21171   7.2500   NaN        S  \n",
       "1      0          PC 17599  71.2833   C85        C  \n",
       "2      0  STON/O2. 3101282   7.9250   NaN        S  \n",
       "3      0            113803  53.1000  C123        S  \n",
       "4      0            373450   8.0500   NaN        S  "
      ]
     },
     "execution_count": 1,
     "metadata": {},
     "output_type": "execute_result"
    }
   ],
   "source": [
    "# for the train data\n",
    "import pandas as pd\n",
    "train_data = pd.read_csv(\"/kaggle/input/titanic/train.csv\")\n",
    "train_data.head()"
   ]
  },
  {
   "cell_type": "markdown",
   "metadata": {},
   "source": [
    "We are imported our train dataset. Now, we will import our test dataset."
   ]
  },
  {
   "cell_type": "code",
   "execution_count": 2,
   "metadata": {
    "execution": {
     "iopub.execute_input": "2024-04-06T20:11:26.563590Z",
     "iopub.status.busy": "2024-04-06T20:11:26.562673Z",
     "iopub.status.idle": "2024-04-06T20:11:26.588461Z",
     "shell.execute_reply": "2024-04-06T20:11:26.587151Z",
     "shell.execute_reply.started": "2024-04-06T20:11:26.563552Z"
    }
   },
   "outputs": [
    {
     "data": {
      "text/html": [
       "<div>\n",
       "<style scoped>\n",
       "    .dataframe tbody tr th:only-of-type {\n",
       "        vertical-align: middle;\n",
       "    }\n",
       "\n",
       "    .dataframe tbody tr th {\n",
       "        vertical-align: top;\n",
       "    }\n",
       "\n",
       "    .dataframe thead th {\n",
       "        text-align: right;\n",
       "    }\n",
       "</style>\n",
       "<table border=\"1\" class=\"dataframe\">\n",
       "  <thead>\n",
       "    <tr style=\"text-align: right;\">\n",
       "      <th></th>\n",
       "      <th>PassengerId</th>\n",
       "      <th>Pclass</th>\n",
       "      <th>Name</th>\n",
       "      <th>Sex</th>\n",
       "      <th>Age</th>\n",
       "      <th>SibSp</th>\n",
       "      <th>Parch</th>\n",
       "      <th>Ticket</th>\n",
       "      <th>Fare</th>\n",
       "      <th>Cabin</th>\n",
       "      <th>Embarked</th>\n",
       "    </tr>\n",
       "  </thead>\n",
       "  <tbody>\n",
       "    <tr>\n",
       "      <th>0</th>\n",
       "      <td>892</td>\n",
       "      <td>3</td>\n",
       "      <td>Kelly, Mr. James</td>\n",
       "      <td>male</td>\n",
       "      <td>34.5</td>\n",
       "      <td>0</td>\n",
       "      <td>0</td>\n",
       "      <td>330911</td>\n",
       "      <td>7.8292</td>\n",
       "      <td>NaN</td>\n",
       "      <td>Q</td>\n",
       "    </tr>\n",
       "    <tr>\n",
       "      <th>1</th>\n",
       "      <td>893</td>\n",
       "      <td>3</td>\n",
       "      <td>Wilkes, Mrs. James (Ellen Needs)</td>\n",
       "      <td>female</td>\n",
       "      <td>47.0</td>\n",
       "      <td>1</td>\n",
       "      <td>0</td>\n",
       "      <td>363272</td>\n",
       "      <td>7.0000</td>\n",
       "      <td>NaN</td>\n",
       "      <td>S</td>\n",
       "    </tr>\n",
       "    <tr>\n",
       "      <th>2</th>\n",
       "      <td>894</td>\n",
       "      <td>2</td>\n",
       "      <td>Myles, Mr. Thomas Francis</td>\n",
       "      <td>male</td>\n",
       "      <td>62.0</td>\n",
       "      <td>0</td>\n",
       "      <td>0</td>\n",
       "      <td>240276</td>\n",
       "      <td>9.6875</td>\n",
       "      <td>NaN</td>\n",
       "      <td>Q</td>\n",
       "    </tr>\n",
       "    <tr>\n",
       "      <th>3</th>\n",
       "      <td>895</td>\n",
       "      <td>3</td>\n",
       "      <td>Wirz, Mr. Albert</td>\n",
       "      <td>male</td>\n",
       "      <td>27.0</td>\n",
       "      <td>0</td>\n",
       "      <td>0</td>\n",
       "      <td>315154</td>\n",
       "      <td>8.6625</td>\n",
       "      <td>NaN</td>\n",
       "      <td>S</td>\n",
       "    </tr>\n",
       "    <tr>\n",
       "      <th>4</th>\n",
       "      <td>896</td>\n",
       "      <td>3</td>\n",
       "      <td>Hirvonen, Mrs. Alexander (Helga E Lindqvist)</td>\n",
       "      <td>female</td>\n",
       "      <td>22.0</td>\n",
       "      <td>1</td>\n",
       "      <td>1</td>\n",
       "      <td>3101298</td>\n",
       "      <td>12.2875</td>\n",
       "      <td>NaN</td>\n",
       "      <td>S</td>\n",
       "    </tr>\n",
       "  </tbody>\n",
       "</table>\n",
       "</div>"
      ],
      "text/plain": [
       "   PassengerId  Pclass                                          Name     Sex  \\\n",
       "0          892       3                              Kelly, Mr. James    male   \n",
       "1          893       3              Wilkes, Mrs. James (Ellen Needs)  female   \n",
       "2          894       2                     Myles, Mr. Thomas Francis    male   \n",
       "3          895       3                              Wirz, Mr. Albert    male   \n",
       "4          896       3  Hirvonen, Mrs. Alexander (Helga E Lindqvist)  female   \n",
       "\n",
       "    Age  SibSp  Parch   Ticket     Fare Cabin Embarked  \n",
       "0  34.5      0      0   330911   7.8292   NaN        Q  \n",
       "1  47.0      1      0   363272   7.0000   NaN        S  \n",
       "2  62.0      0      0   240276   9.6875   NaN        Q  \n",
       "3  27.0      0      0   315154   8.6625   NaN        S  \n",
       "4  22.0      1      1  3101298  12.2875   NaN        S  "
      ]
     },
     "execution_count": 2,
     "metadata": {},
     "output_type": "execute_result"
    }
   ],
   "source": [
    "# for the test data\n",
    "test_data = pd.read_csv(\"/kaggle/input/titanic/test.csv\")\n",
    "test_data.head()"
   ]
  },
  {
   "cell_type": "markdown",
   "metadata": {},
   "source": [
    "Now, let's review the datasets. We will look at the <code>infos</code> and <code>shapes</code> of the datasets."
   ]
  },
  {
   "cell_type": "code",
   "execution_count": 3,
   "metadata": {
    "execution": {
     "iopub.execute_input": "2024-04-06T20:11:30.793441Z",
     "iopub.status.busy": "2024-04-06T20:11:30.793043Z",
     "iopub.status.idle": "2024-04-06T20:11:30.799249Z",
     "shell.execute_reply": "2024-04-06T20:11:30.797929Z",
     "shell.execute_reply.started": "2024-04-06T20:11:30.793408Z"
    }
   },
   "outputs": [
    {
     "name": "stdout",
     "output_type": "stream",
     "text": [
      "Shape is (891, 12) for train dataset.\n",
      "Shape is (418, 11) for test dataset.\n"
     ]
    }
   ],
   "source": [
    "# infos from datasets\n",
    "print(f'Shape is {train_data.shape} for train dataset.\\nShape is {test_data.shape} for test dataset.')"
   ]
  },
  {
   "cell_type": "markdown",
   "metadata": {},
   "source": [
    "Test dataset has one missing column, because it is our target variable. We will create our classification models from the train dataset, after that we will test them on the test dataset. We will write our predictions into <code>submission</code> file, and evaluate our scores."
   ]
  },
  {
   "cell_type": "code",
   "execution_count": 4,
   "metadata": {
    "execution": {
     "iopub.execute_input": "2024-04-06T20:11:33.439446Z",
     "iopub.status.busy": "2024-04-06T20:11:33.439073Z",
     "iopub.status.idle": "2024-04-06T20:11:33.467829Z",
     "shell.execute_reply": "2024-04-06T20:11:33.466586Z",
     "shell.execute_reply.started": "2024-04-06T20:11:33.439418Z"
    }
   },
   "outputs": [
    {
     "name": "stdout",
     "output_type": "stream",
     "text": [
      "<class 'pandas.core.frame.DataFrame'>\n",
      "RangeIndex: 891 entries, 0 to 890\n",
      "Data columns (total 12 columns):\n",
      " #   Column       Non-Null Count  Dtype  \n",
      "---  ------       --------------  -----  \n",
      " 0   PassengerId  891 non-null    int64  \n",
      " 1   Survived     891 non-null    int64  \n",
      " 2   Pclass       891 non-null    int64  \n",
      " 3   Name         891 non-null    object \n",
      " 4   Sex          891 non-null    object \n",
      " 5   Age          714 non-null    float64\n",
      " 6   SibSp        891 non-null    int64  \n",
      " 7   Parch        891 non-null    int64  \n",
      " 8   Ticket       891 non-null    object \n",
      " 9   Fare         891 non-null    float64\n",
      " 10  Cabin        204 non-null    object \n",
      " 11  Embarked     889 non-null    object \n",
      "dtypes: float64(2), int64(5), object(5)\n",
      "memory usage: 83.7+ KB\n"
     ]
    }
   ],
   "source": [
    "train_data.info()"
   ]
  },
  {
   "cell_type": "code",
   "execution_count": 5,
   "metadata": {
    "execution": {
     "iopub.execute_input": "2024-04-06T20:11:37.802842Z",
     "iopub.status.busy": "2024-04-06T20:11:37.802230Z",
     "iopub.status.idle": "2024-04-06T20:11:37.819253Z",
     "shell.execute_reply": "2024-04-06T20:11:37.818120Z",
     "shell.execute_reply.started": "2024-04-06T20:11:37.802813Z"
    }
   },
   "outputs": [
    {
     "name": "stdout",
     "output_type": "stream",
     "text": [
      "<class 'pandas.core.frame.DataFrame'>\n",
      "RangeIndex: 418 entries, 0 to 417\n",
      "Data columns (total 11 columns):\n",
      " #   Column       Non-Null Count  Dtype  \n",
      "---  ------       --------------  -----  \n",
      " 0   PassengerId  418 non-null    int64  \n",
      " 1   Pclass       418 non-null    int64  \n",
      " 2   Name         418 non-null    object \n",
      " 3   Sex          418 non-null    object \n",
      " 4   Age          332 non-null    float64\n",
      " 5   SibSp        418 non-null    int64  \n",
      " 6   Parch        418 non-null    int64  \n",
      " 7   Ticket       418 non-null    object \n",
      " 8   Fare         417 non-null    float64\n",
      " 9   Cabin        91 non-null     object \n",
      " 10  Embarked     418 non-null    object \n",
      "dtypes: float64(2), int64(4), object(5)\n",
      "memory usage: 36.0+ KB\n"
     ]
    }
   ],
   "source": [
    "test_data.info()"
   ]
  },
  {
   "cell_type": "markdown",
   "metadata": {},
   "source": [
    "After info codes, we gathered some useful informations from our datas. So, we learned a lot about our datasets. One last thing left before starting to <code>data preprocessing</code>.\n",
    "\n",
    "Let's control if there is a missing value in both of our datasets."
   ]
  },
  {
   "cell_type": "code",
   "execution_count": 6,
   "metadata": {
    "execution": {
     "iopub.execute_input": "2024-04-06T20:11:42.040002Z",
     "iopub.status.busy": "2024-04-06T20:11:42.039353Z",
     "iopub.status.idle": "2024-04-06T20:11:42.050632Z",
     "shell.execute_reply": "2024-04-06T20:11:42.049506Z",
     "shell.execute_reply.started": "2024-04-06T20:11:42.039942Z"
    }
   },
   "outputs": [
    {
     "name": "stdout",
     "output_type": "stream",
     "text": [
      "For our feature data set:\n",
      "PassengerId      0\n",
      "Survived         0\n",
      "Pclass           0\n",
      "Name             0\n",
      "Sex              0\n",
      "Age            177\n",
      "SibSp            0\n",
      "Parch            0\n",
      "Ticket           0\n",
      "Fare             0\n",
      "Cabin          687\n",
      "Embarked         2\n",
      "dtype: int64\n",
      "\n",
      "************\n",
      "\n",
      "For our test data set:\n",
      "PassengerId      0\n",
      "Pclass           0\n",
      "Name             0\n",
      "Sex              0\n",
      "Age             86\n",
      "SibSp            0\n",
      "Parch            0\n",
      "Ticket           0\n",
      "Fare             1\n",
      "Cabin          327\n",
      "Embarked         0\n",
      "dtype: int64\n"
     ]
    }
   ],
   "source": [
    "print('For our feature data set:\\n{}'.format(train_data.isnull().sum()))\n",
    "print('\\n************\\n\\n''For our test data set:\\n{}'.format(test_data.isnull().sum()))"
   ]
  },
  {
   "cell_type": "markdown",
   "metadata": {},
   "source": [
    "As you can see, we have some missing values in <code>Age</code>, <code>Cabin</code>, and <code>Embarked</code> columns. Let's continue to the <code>data preprocessing</code> to create ideas for solving these problems."
   ]
  },
  {
   "cell_type": "markdown",
   "metadata": {},
   "source": [
    "## Data Preprocessing\n",
    "\n",
    "In this part, we will create our preprocessing methods.\n",
    "\n",
    "* For <code>Age</code> column, we will get the mean of this column, and fulfill the empty columns with it.\n",
    "* <code>Sex</code> column has text values, but we need numerical values. We will encode male as 0, female as 1.\n",
    "* For <code>Embarked</code> column's empty rows, we will use k-nearest neighbor to fulfill. After that we encode it like C=1, Q=2, S=3.\n",
    "* Just for test dataset, we can give mean of the column to <code>Fare</code> column, because there is a missing value in it.\n",
    "* We do not use columns like <code>Cabin</code>, <code>Name</code>, <code>PassengerId</code>.\n",
    "    * <code>Name</code> is not important thing to use in data mining project.\n",
    "    * <code>Cabin</code> has lots of missing values.\n",
    "    * We cannot mine anything with <code>PassengerId</code>.\n",
    "\n",
    "Let's do the preprocessing of both of datasets."
   ]
  },
  {
   "cell_type": "markdown",
   "metadata": {},
   "source": [
    "For the training dataset, we need to introduce a <code>y_train</code> variable to hide our target variable from the models we will create.\n",
    "\n",
    "After the creation of our models, we use <code>StandardScaler</code> to improve performance of the models. We will see its effect later of this notebook."
   ]
  },
  {
   "cell_type": "code",
   "execution_count": 7,
   "metadata": {
    "execution": {
     "iopub.execute_input": "2024-04-06T20:12:30.442597Z",
     "iopub.status.busy": "2024-04-06T20:12:30.442224Z",
     "iopub.status.idle": "2024-04-06T20:12:32.072356Z",
     "shell.execute_reply": "2024-04-06T20:12:32.071140Z",
     "shell.execute_reply.started": "2024-04-06T20:12:30.442570Z"
    }
   },
   "outputs": [
    {
     "name": "stdout",
     "output_type": "stream",
     "text": [
      "Data preprocessing for the training dataset is successful!\n"
     ]
    }
   ],
   "source": [
    "# for training dataset\n",
    "y_train_data = train_data['Survived']\n",
    "feature_cols = ['Pclass', 'Sex', 'Age', 'SibSp', 'Parch', 'Fare', 'Embarked']\n",
    "X_train_data = train_data[feature_cols]\n",
    "\n",
    "X_train_data.loc[:, 'Age'] = X_train_data['Age'].fillna(int(X_train_data['Age'].mean()))\n",
    "X_train_data.loc[:, 'Sex'] = X_train_data['Sex'].map({'male': 0, 'female': 1})\n",
    "X_train_data.loc[:, 'Embarked'] = X_train_data['Embarked'].map({'C': 1, 'Q': 2, 'S': 3})\n",
    "\n",
    "from sklearn.impute import KNNImputer\n",
    "imputer = KNNImputer(n_neighbors=5, weights='uniform')\n",
    "X_train_imputed = pd.DataFrame(imputer.fit_transform(X_train_data[['Embarked']]), columns=['Embarked'])\n",
    "X_train_data.loc[:, 'Embarked'] = X_train_imputed['Embarked']\n",
    "X_train_data.loc[:, 'Embarked'] = X_train_data['Embarked'].astype(int)\n",
    "\n",
    "from sklearn.preprocessing import StandardScaler\n",
    "scaler = StandardScaler()\n",
    "X_train_scaled = scaler.fit_transform(X_train_data)\n",
    "\n",
    "print('Data preprocessing for the training dataset is successful!')"
   ]
  },
  {
   "cell_type": "markdown",
   "metadata": {},
   "source": [
    "For test dataset, it is unrequired to create a <code>y</code> variable, because there is no <code>Survived</code> column in this dataset, which is our target variable. This information is hidden in <code>submission.csv</code> on Titanic project. So, we do not need to create a <code>y</code> variable here.\n",
    "\n",
    "Also, we do not need to use kNN imputer for <code>Embarked</code> column, because it does not have any missing value."
   ]
  },
  {
   "cell_type": "code",
   "execution_count": 8,
   "metadata": {
    "execution": {
     "iopub.execute_input": "2024-04-06T20:12:53.330229Z",
     "iopub.status.busy": "2024-04-06T20:12:53.329809Z",
     "iopub.status.idle": "2024-04-06T20:12:53.346933Z",
     "shell.execute_reply": "2024-04-06T20:12:53.345632Z",
     "shell.execute_reply.started": "2024-04-06T20:12:53.330200Z"
    }
   },
   "outputs": [
    {
     "name": "stdout",
     "output_type": "stream",
     "text": [
      "Data preprocessing for the test dataset is successful!\n"
     ]
    }
   ],
   "source": [
    "# for the test dataset\n",
    "y_test_data = None\n",
    "feature_cols = ['Pclass', 'Sex', 'Age', 'SibSp', 'Parch', 'Fare', 'Embarked']\n",
    "X_test_data = test_data[feature_cols]\n",
    "\n",
    "X_test_data.loc[:, 'Age'] = X_test_data['Age'].fillna(int(X_test_data['Age'].mean()))\n",
    "X_test_data.loc[:, 'Fare'] = X_test_data['Fare'].fillna(int(X_test_data['Fare'].mean()))\n",
    "X_test_data.loc[:, 'Sex'] = X_test_data['Sex'].map({'male': 0, 'female': 1})\n",
    "X_test_data.loc[:, 'Embarked'] = X_test_data['Embarked'].map({'C': 1, 'Q': 2, 'S': 3})\n",
    "\n",
    "X_test_scaled = scaler.transform(X_test_data)\n",
    "\n",
    "print('Data preprocessing for the test dataset is successful!')"
   ]
  },
  {
   "cell_type": "markdown",
   "metadata": {},
   "source": [
    "We should call the <code>head</code> to see if the things we changed are applied on datasets."
   ]
  },
  {
   "cell_type": "code",
   "execution_count": 9,
   "metadata": {
    "execution": {
     "iopub.execute_input": "2024-04-06T20:12:57.404139Z",
     "iopub.status.busy": "2024-04-06T20:12:57.403730Z",
     "iopub.status.idle": "2024-04-06T20:12:57.419700Z",
     "shell.execute_reply": "2024-04-06T20:12:57.417975Z",
     "shell.execute_reply.started": "2024-04-06T20:12:57.404111Z"
    }
   },
   "outputs": [
    {
     "data": {
      "text/html": [
       "<div>\n",
       "<style scoped>\n",
       "    .dataframe tbody tr th:only-of-type {\n",
       "        vertical-align: middle;\n",
       "    }\n",
       "\n",
       "    .dataframe tbody tr th {\n",
       "        vertical-align: top;\n",
       "    }\n",
       "\n",
       "    .dataframe thead th {\n",
       "        text-align: right;\n",
       "    }\n",
       "</style>\n",
       "<table border=\"1\" class=\"dataframe\">\n",
       "  <thead>\n",
       "    <tr style=\"text-align: right;\">\n",
       "      <th></th>\n",
       "      <th>Pclass</th>\n",
       "      <th>Sex</th>\n",
       "      <th>Age</th>\n",
       "      <th>SibSp</th>\n",
       "      <th>Parch</th>\n",
       "      <th>Fare</th>\n",
       "      <th>Embarked</th>\n",
       "    </tr>\n",
       "  </thead>\n",
       "  <tbody>\n",
       "    <tr>\n",
       "      <th>0</th>\n",
       "      <td>3</td>\n",
       "      <td>0</td>\n",
       "      <td>22.0</td>\n",
       "      <td>1</td>\n",
       "      <td>0</td>\n",
       "      <td>7.2500</td>\n",
       "      <td>3</td>\n",
       "    </tr>\n",
       "    <tr>\n",
       "      <th>1</th>\n",
       "      <td>1</td>\n",
       "      <td>1</td>\n",
       "      <td>38.0</td>\n",
       "      <td>1</td>\n",
       "      <td>0</td>\n",
       "      <td>71.2833</td>\n",
       "      <td>1</td>\n",
       "    </tr>\n",
       "    <tr>\n",
       "      <th>2</th>\n",
       "      <td>3</td>\n",
       "      <td>1</td>\n",
       "      <td>26.0</td>\n",
       "      <td>0</td>\n",
       "      <td>0</td>\n",
       "      <td>7.9250</td>\n",
       "      <td>3</td>\n",
       "    </tr>\n",
       "    <tr>\n",
       "      <th>3</th>\n",
       "      <td>1</td>\n",
       "      <td>1</td>\n",
       "      <td>35.0</td>\n",
       "      <td>1</td>\n",
       "      <td>0</td>\n",
       "      <td>53.1000</td>\n",
       "      <td>3</td>\n",
       "    </tr>\n",
       "    <tr>\n",
       "      <th>4</th>\n",
       "      <td>3</td>\n",
       "      <td>0</td>\n",
       "      <td>35.0</td>\n",
       "      <td>0</td>\n",
       "      <td>0</td>\n",
       "      <td>8.0500</td>\n",
       "      <td>3</td>\n",
       "    </tr>\n",
       "  </tbody>\n",
       "</table>\n",
       "</div>"
      ],
      "text/plain": [
       "   Pclass Sex   Age  SibSp  Parch     Fare Embarked\n",
       "0       3   0  22.0      1      0   7.2500        3\n",
       "1       1   1  38.0      1      0  71.2833        1\n",
       "2       3   1  26.0      0      0   7.9250        3\n",
       "3       1   1  35.0      1      0  53.1000        3\n",
       "4       3   0  35.0      0      0   8.0500        3"
      ]
     },
     "execution_count": 9,
     "metadata": {},
     "output_type": "execute_result"
    }
   ],
   "source": [
    "X_train_data.head()"
   ]
  },
  {
   "cell_type": "code",
   "execution_count": 10,
   "metadata": {
    "execution": {
     "iopub.execute_input": "2024-04-06T20:13:00.562865Z",
     "iopub.status.busy": "2024-04-06T20:13:00.562483Z",
     "iopub.status.idle": "2024-04-06T20:13:00.577191Z",
     "shell.execute_reply": "2024-04-06T20:13:00.576097Z",
     "shell.execute_reply.started": "2024-04-06T20:13:00.562838Z"
    }
   },
   "outputs": [
    {
     "data": {
      "text/html": [
       "<div>\n",
       "<style scoped>\n",
       "    .dataframe tbody tr th:only-of-type {\n",
       "        vertical-align: middle;\n",
       "    }\n",
       "\n",
       "    .dataframe tbody tr th {\n",
       "        vertical-align: top;\n",
       "    }\n",
       "\n",
       "    .dataframe thead th {\n",
       "        text-align: right;\n",
       "    }\n",
       "</style>\n",
       "<table border=\"1\" class=\"dataframe\">\n",
       "  <thead>\n",
       "    <tr style=\"text-align: right;\">\n",
       "      <th></th>\n",
       "      <th>Pclass</th>\n",
       "      <th>Sex</th>\n",
       "      <th>Age</th>\n",
       "      <th>SibSp</th>\n",
       "      <th>Parch</th>\n",
       "      <th>Fare</th>\n",
       "      <th>Embarked</th>\n",
       "    </tr>\n",
       "  </thead>\n",
       "  <tbody>\n",
       "    <tr>\n",
       "      <th>0</th>\n",
       "      <td>3</td>\n",
       "      <td>0</td>\n",
       "      <td>34.5</td>\n",
       "      <td>0</td>\n",
       "      <td>0</td>\n",
       "      <td>7.8292</td>\n",
       "      <td>2</td>\n",
       "    </tr>\n",
       "    <tr>\n",
       "      <th>1</th>\n",
       "      <td>3</td>\n",
       "      <td>1</td>\n",
       "      <td>47.0</td>\n",
       "      <td>1</td>\n",
       "      <td>0</td>\n",
       "      <td>7.0000</td>\n",
       "      <td>3</td>\n",
       "    </tr>\n",
       "    <tr>\n",
       "      <th>2</th>\n",
       "      <td>2</td>\n",
       "      <td>0</td>\n",
       "      <td>62.0</td>\n",
       "      <td>0</td>\n",
       "      <td>0</td>\n",
       "      <td>9.6875</td>\n",
       "      <td>2</td>\n",
       "    </tr>\n",
       "    <tr>\n",
       "      <th>3</th>\n",
       "      <td>3</td>\n",
       "      <td>0</td>\n",
       "      <td>27.0</td>\n",
       "      <td>0</td>\n",
       "      <td>0</td>\n",
       "      <td>8.6625</td>\n",
       "      <td>3</td>\n",
       "    </tr>\n",
       "    <tr>\n",
       "      <th>4</th>\n",
       "      <td>3</td>\n",
       "      <td>1</td>\n",
       "      <td>22.0</td>\n",
       "      <td>1</td>\n",
       "      <td>1</td>\n",
       "      <td>12.2875</td>\n",
       "      <td>3</td>\n",
       "    </tr>\n",
       "  </tbody>\n",
       "</table>\n",
       "</div>"
      ],
      "text/plain": [
       "   Pclass Sex   Age  SibSp  Parch     Fare Embarked\n",
       "0       3   0  34.5      0      0   7.8292        2\n",
       "1       3   1  47.0      1      0   7.0000        3\n",
       "2       2   0  62.0      0      0   9.6875        2\n",
       "3       3   0  27.0      0      0   8.6625        3\n",
       "4       3   1  22.0      1      1  12.2875        3"
      ]
     },
     "execution_count": 10,
     "metadata": {},
     "output_type": "execute_result"
    }
   ],
   "source": [
    "X_test_data.head()"
   ]
  },
  {
   "cell_type": "markdown",
   "metadata": {},
   "source": [
    "As you can see above, we are done with our <code>data preprocessing</code> part. Let's continue with <code>Logistic Regression</code>."
   ]
  },
  {
   "cell_type": "markdown",
   "metadata": {},
   "source": [
    "## Logistic Regression\n",
    "\n",
    "The first model we will train is <code>Logistic Regression</code>. We will learn from train dataset, predict on test dataset, and compare with submission dataset to evaluate our model's performance. We will do this technique for all of our models in this project.\n",
    "\n",
    "Here, we will try lots of parameters, and the best one will be printed with its <code>accuracy</code>, <code>AUC</code>, <code>recall</code>, <code>AUC</code>, <code>confusion matrix</code> values.\n",
    "\n",
    "Let's start with the required imports before our Logistic Regression model."
   ]
  },
  {
   "cell_type": "code",
   "execution_count": 11,
   "metadata": {
    "execution": {
     "iopub.execute_input": "2024-04-06T20:13:06.385113Z",
     "iopub.status.busy": "2024-04-06T20:13:06.384717Z",
     "iopub.status.idle": "2024-04-06T20:13:06.391949Z",
     "shell.execute_reply": "2024-04-06T20:13:06.390892Z",
     "shell.execute_reply.started": "2024-04-06T20:13:06.385077Z"
    }
   },
   "outputs": [
    {
     "name": "stdout",
     "output_type": "stream",
     "text": [
      "Success.\n"
     ]
    }
   ],
   "source": [
    "# imports\n",
    "from sklearn.linear_model import LogisticRegression\n",
    "from sklearn.model_selection import train_test_split\n",
    "from sklearn.metrics import accuracy_score, recall_score, confusion_matrix, roc_auc_score\n",
    "from sklearn.svm import SVC\n",
    "import matplotlib.pyplot as plt\n",
    "import numpy as np\n",
    "from sklearn.model_selection import GridSearchCV\n",
    "\n",
    "print('Success.')"
   ]
  },
  {
   "cell_type": "markdown",
   "metadata": {},
   "source": [
    "For one last thing, let's get the submission dataset. It carries the <code>target</code> variables of our test dataset."
   ]
  },
  {
   "cell_type": "code",
   "execution_count": 12,
   "metadata": {
    "execution": {
     "iopub.execute_input": "2024-04-06T20:13:09.256782Z",
     "iopub.status.busy": "2024-04-06T20:13:09.256000Z",
     "iopub.status.idle": "2024-04-06T20:13:09.270387Z",
     "shell.execute_reply": "2024-04-06T20:13:09.269437Z",
     "shell.execute_reply.started": "2024-04-06T20:13:09.256745Z"
    }
   },
   "outputs": [
    {
     "name": "stdout",
     "output_type": "stream",
     "text": [
      "Success.\n"
     ]
    }
   ],
   "source": [
    "# submission dataset\n",
    "submission_data = pd.read_csv(\"/kaggle/input/titanic/gender_submission.csv\")\n",
    "y_submission = submission_data['Survived']\n",
    "\n",
    "print('Success.')"
   ]
  },
  {
   "cell_type": "markdown",
   "metadata": {},
   "source": [
    "Right now, we will search the best <code>C</code> parameter for our <code>Logistic Regression</code> model. For this purpose, we will use <code>GridSearchCV</code> which uses <code>k-fold cross validation</code> to find the best parameters. Our k will be 5. Let's continue."
   ]
  },
  {
   "cell_type": "code",
   "execution_count": 19,
   "metadata": {
    "execution": {
     "iopub.execute_input": "2024-04-06T20:29:31.098857Z",
     "iopub.status.busy": "2024-04-06T20:29:31.098453Z",
     "iopub.status.idle": "2024-04-06T20:29:31.314789Z",
     "shell.execute_reply": "2024-04-06T20:29:31.313763Z",
     "shell.execute_reply.started": "2024-04-06T20:29:31.098828Z"
    }
   },
   "outputs": [
    {
     "name": "stdout",
     "output_type": "stream",
     "text": [
      "The best parameters: {'C': 0.01}\n"
     ]
    }
   ],
   "source": [
    "# logistic regression\n",
    "model = LogisticRegression()\n",
    "\n",
    "# parameters\n",
    "param_grid = {'C': [0.001, 0.01, 0.1, 1, 10, 100, 1000]}\n",
    "\n",
    "# gridsearchcv\n",
    "grid_search_logreg = GridSearchCV(estimator=model, param_grid=param_grid, cv=5, scoring='accuracy')\n",
    "grid_search_logreg.fit(X_train_scaled, y_train_data)\n",
    "\n",
    "# the best parameters\n",
    "print(\"The best parameters:\", grid_search.best_params_)"
   ]
  },
  {
   "cell_type": "markdown",
   "metadata": {},
   "source": [
    "Let's train the <code>Logistic Regression</code> model. We will also see a <code>confusion matrix</code> plot at the end of output. For train-test dataset together, our Logistic Regression model will be like this.\n",
    "\n",
    "We will use the <code>C = 0.01</code> parameter here also."
   ]
  },
  {
   "cell_type": "code",
   "execution_count": 22,
   "metadata": {
    "execution": {
     "iopub.execute_input": "2024-04-06T20:30:31.996893Z",
     "iopub.status.busy": "2024-04-06T20:30:31.995759Z",
     "iopub.status.idle": "2024-04-06T20:30:32.358875Z",
     "shell.execute_reply": "2024-04-06T20:30:32.355188Z",
     "shell.execute_reply.started": "2024-04-06T20:30:31.996848Z"
    }
   },
   "outputs": [
    {
     "name": "stdout",
     "output_type": "stream",
     "text": [
      "Accuracy: 0.9473684210526315\n",
      "Recall: 0.9078947368421053\n",
      "AUC: 0.9389097744360902\n",
      "Confusion Matrix:\n",
      " [[258   8]\n",
      " [ 14 138]]\n"
     ]
    },
    {
     "data": {
      "image/png": "[encoded data removed]",
      "text/plain": [
       "<Figure size 800x600 with 2 Axes>"
      ]
     },
     "metadata": {},
     "output_type": "display_data"
    }
   ],
   "source": [
    "# logistic regression\n",
    "logreg = LogisticRegression(C=grid_search_logreg.best_params_['C'])\n",
    "logreg.fit(X_train_scaled, y_train_data)\n",
    "y_pred = logreg.predict(X_test_scaled)\n",
    "\n",
    "# calculate the values for the model we created\n",
    "accuracy_logreg1 = accuracy_score(y_submission, y_pred)\n",
    "recall_logreg1 = recall_score(y_submission, y_pred)\n",
    "auc_logreg1 = roc_auc_score(y_submission, y_pred)\n",
    "\n",
    "# print the values\n",
    "print(f\"Accuracy: {accuracy_logreg1}\")\n",
    "print(f\"Recall: {recall_logreg1}\")\n",
    "print(f\"AUC: {auc_logreg1}\")\n",
    "\n",
    "# create the confusion matrix and show it on plot\n",
    "cm_logreg1 = confusion_matrix(y_submission, y_pred)\n",
    "print('Confusion Matrix:\\n', cm)\n",
    "plt.figure(figsize=(8, 6))\n",
    "plt.imshow(cm_logreg1, interpolation='nearest', cmap='Blues')\n",
    "plt.colorbar()\n",
    "plt.xticks(np.arange(len(np.unique(y_submission))), np.unique(y_submission))\n",
    "plt.yticks(np.arange(len(np.unique(y_submission))), np.unique(y_submission))\n",
    "plt.xlabel('Predicted')\n",
    "plt.ylabel('Actual')\n",
    "plt.title('Confusion Matrix')\n",
    "plt.show()"
   ]
  },
  {
   "cell_type": "markdown",
   "metadata": {},
   "source": [
    "For train dataset, we will be get a <code>Logistic Regression</code> model below. Here, we will use just train dataset, and we will compare our <code>Logistic Regression</code> models.\n",
    "\n",
    "We find its <code>test_size</code> and <code>random_state</code> parameters from intervals we create. This <code>Logistic Regression</code> model is the best one in this interval.\n",
    "\n",
    "After <code>Logistic Regression</code>, we will use these values in all <code>train_test_split</code> parts -our just train dataset models."
   ]
  },
  {
   "cell_type": "code",
   "execution_count": 50,
   "metadata": {
    "execution": {
     "iopub.execute_input": "2024-04-06T20:55:05.152091Z",
     "iopub.status.busy": "2024-04-06T20:55:05.151019Z",
     "iopub.status.idle": "2024-04-06T20:55:13.552585Z",
     "shell.execute_reply": "2024-04-06T20:55:13.551213Z",
     "shell.execute_reply.started": "2024-04-06T20:55:05.152039Z"
    }
   },
   "outputs": [
    {
     "name": "stdout",
     "output_type": "stream",
     "text": [
      "The best Parameters: {'random_state': 45, 'test_size': 0.15000000000000002}\n",
      "The best Accuracy: 0.8805970149253731\n",
      "The best Recall: 0.7777777777777778\n",
      "The best AUC: 0.8551810237203495\n",
      "The best Confusion Matrix:\n",
      "[[83  6]\n",
      " [10 35]]\n"
     ]
    },
    {
     "data": {
      "image/png": "[encoded data removed]",
      "text/plain": [
       "<Figure size 800x600 with 2 Axes>"
      ]
     },
     "metadata": {},
     "output_type": "display_data"
    }
   ],
   "source": [
    "# logistic regression\n",
    "best_score = 0\n",
    "best_params = {}\n",
    "\n",
    "# create the ranges\n",
    "random_states = range(1, 101)\n",
    "test_sizes = np.arange(0.1, 0.5, 0.05)\n",
    "\n",
    "for random_state in random_states:\n",
    "    for test_size in test_sizes:\n",
    "        # split the data set\n",
    "        X_train, X_test, y_train, y_test = train_test_split(X_train_scaled, y_train_data, test_size=test_size, random_state=random_state)\n",
    "\n",
    "        # logistic regression\n",
    "        logreg = LogisticRegression(C=grid_search_logreg.best_params_['C'])\n",
    "        logreg.fit(X_train, y_train)\n",
    "        y_pred = logreg.predict(X_test)\n",
    "\n",
    "        # calculate the values for the model we created\n",
    "        accuracy_logreg2 = accuracy_score(y_test, y_pred)\n",
    "        recall_logreg2 = recall_score(y_test, y_pred)\n",
    "        auc_logreg2 = roc_auc_score(y_test, y_pred)\n",
    "        cm_logreg2 = confusion_matrix(y_test, y_pred)\n",
    "\n",
    "        # find the best values\n",
    "        if accuracy_logreg2 > best_score:\n",
    "            best_score = accuracy_logreg2\n",
    "            best_params_logreg2 = {'random_state': random_state, 'test_size': test_size}\n",
    "            best_recall = recall_logreg2\n",
    "            best_auc = auc_logreg2\n",
    "            best_cm = cm_logreg2\n",
    "\n",
    "# print the best values\n",
    "print(f\"The best Parameters: {best_params_logreg2}\")\n",
    "print(f\"The best Accuracy: {best_score}\")\n",
    "print(f\"The best Recall: {best_recall}\")\n",
    "print(f\"The best AUC: {best_auc}\")\n",
    "print(f\"The best Confusion Matrix:\\n{best_cm}\")\n",
    "\n",
    "plt.figure(figsize=(8, 6))\n",
    "plt.imshow(best_cm, interpolation='nearest', cmap='Blues')\n",
    "plt.colorbar()\n",
    "plt.xticks(np.arange(len(np.unique(y_test))), np.unique(y_test))\n",
    "plt.yticks(np.arange(len(np.unique(y_test))), np.unique(y_test))\n",
    "plt.xlabel('Predicted')\n",
    "plt.ylabel('Actual')\n",
    "plt.title('Confusion Matrix')\n",
    "plt.show()"
   ]
  },
  {
   "cell_type": "markdown",
   "metadata": {},
   "source": [
    "We trained a powerful <code>Logistic Regression</code> model here! As you can see, it predicted the <code>submission</code> values very well!\n",
    "\n",
    "But the most powerful one is the one that tries to predict test dataset values.\n",
    "\n",
    "Last of all, for our train dataset models, we will use this parameters."
   ]
  },
  {
   "cell_type": "markdown",
   "metadata": {},
   "source": [
    "## Ridge and Lasso Regression\n",
    "\n",
    "Here, we will use both of <code>Ridge and Lasso</code> Regression as a classificator. First, let's do the required imports"
   ]
  },
  {
   "cell_type": "code",
   "execution_count": 29,
   "metadata": {
    "execution": {
     "iopub.execute_input": "2024-04-06T20:38:01.706223Z",
     "iopub.status.busy": "2024-04-06T20:38:01.705171Z",
     "iopub.status.idle": "2024-04-06T20:38:01.712739Z",
     "shell.execute_reply": "2024-04-06T20:38:01.711417Z",
     "shell.execute_reply.started": "2024-04-06T20:38:01.706190Z"
    }
   },
   "outputs": [
    {
     "name": "stdout",
     "output_type": "stream",
     "text": [
      "Success.\n"
     ]
    }
   ],
   "source": [
    "# imports\n",
    "from sklearn.linear_model import Ridge, Lasso\n",
    "from sklearn.model_selection import KFold\n",
    "\n",
    "print('Success.')"
   ]
  },
  {
   "cell_type": "markdown",
   "metadata": {},
   "source": [
    "So, we are ready to start. We will use <code>GridResearchCV</code> with 5 k-fold for finding the best alpha parameters for the model we will create."
   ]
  },
  {
   "cell_type": "code",
   "execution_count": 31,
   "metadata": {
    "execution": {
     "iopub.execute_input": "2024-04-06T20:39:15.356488Z",
     "iopub.status.busy": "2024-04-06T20:39:15.356091Z",
     "iopub.status.idle": "2024-04-06T20:39:16.703726Z",
     "shell.execute_reply": "2024-04-06T20:39:16.702493Z",
     "shell.execute_reply.started": "2024-04-06T20:39:15.356460Z"
    }
   },
   "outputs": [
    {
     "name": "stdout",
     "output_type": "stream",
     "text": [
      "The best alpha value (Ridge): 0.9500000000000001\n",
      "The best alpha value (Lasso): 0.01\n"
     ]
    }
   ],
   "source": [
    "# parameter interval\n",
    "alpha_range_ridge = np.arange(0.05, 1.0, 0.05)\n",
    "alpha_range_lasso = np.arange(0.01, 1.0, 0.01)\n",
    "\n",
    "# k-fold cross validation\n",
    "kfold = KFold(n_splits=5, shuffle=True, random_state=42)\n",
    "\n",
    "# finding the best parameters\n",
    "ridge_grid = GridSearchCV(Ridge(), {'alpha': alpha_range_ridge}, cv=kfold)\n",
    "ridge_grid.fit(X_train_scaled, y_train_data)\n",
    "best_alpha_ridge = ridge_grid.best_params_['alpha']\n",
    "\n",
    "lasso_grid = GridSearchCV(Lasso(), {'alpha': alpha_range_lasso}, cv=kfold)\n",
    "lasso_grid.fit(X_train_scaled, y_train_data)\n",
    "best_alpha_lasso = lasso_grid.best_params_['alpha']\n",
    "\n",
    "print(\"The best alpha value (Ridge):\", best_alpha_ridge)\n",
    "print(\"The best alpha value (Lasso):\", best_alpha_lasso)"
   ]
  },
  {
   "cell_type": "markdown",
   "metadata": {},
   "source": [
    "As you can see, 95% alpha is good for Ridge and 1% is good for Lasso's alpha parameter."
   ]
  },
  {
   "cell_type": "code",
   "execution_count": 32,
   "metadata": {
    "execution": {
     "iopub.execute_input": "2024-04-06T20:40:34.341563Z",
     "iopub.status.busy": "2024-04-06T20:40:34.341169Z",
     "iopub.status.idle": "2024-04-06T20:40:34.368281Z",
     "shell.execute_reply": "2024-04-06T20:40:34.367304Z",
     "shell.execute_reply.started": "2024-04-06T20:40:34.341534Z"
    }
   },
   "outputs": [
    {
     "name": "stdout",
     "output_type": "stream",
     "text": [
      "Ridge Accuracy: 0.9641148325358851, Ridge AUC: 0.9933715868618915, Ridge Recall: 0.9605263157894737\n",
      "Lasso Accuracy: 0.9808612440191388, Lasso AUC: 0.9972051840126632, Lasso Recall: 0.9736842105263158\n"
     ]
    }
   ],
   "source": [
    "ridge_model = Ridge(alpha=best_alpha_ridge)\n",
    "ridge_model.fit(X_train_scaled, y_train_data)\n",
    "y_ridge_pred_proba = ridge_model.predict(X_test_scaled)\n",
    "\n",
    "lasso_model = Lasso(alpha=best_alpha_lasso)\n",
    "lasso_model.fit(X_train_scaled, y_train_data)\n",
    "y_lasso_pred_proba = lasso_model.predict(X_test_scaled)\n",
    "\n",
    "# classify predictions based on a threshold\n",
    "y_ridge_pred = (y_ridge_pred_proba > 0.5).astype(int)\n",
    "y_lasso_pred = (y_lasso_pred_proba > 0.5).astype(int)\n",
    "\n",
    "accuracy_ridge1 = accuracy_score(y_submission, y_ridge_pred)\n",
    "auc_ridge1 = roc_auc_score(y_submission, y_ridge_pred_proba)\n",
    "recall_ridge1 = recall_score(y_submission, y_ridge_pred)\n",
    "\n",
    "accuracy_lasso1 = accuracy_score(y_submission, y_lasso_pred)\n",
    "auc_lasso1 = roc_auc_score(y_submission, y_lasso_pred_proba)\n",
    "recall_lasso1 = recall_score(y_submission, y_lasso_pred)\n",
    "\n",
    "print(f\"Ridge Accuracy: {accuracy_ridge1}, Ridge AUC: {auc_ridge1}, Ridge Recall: {recall_ridge1}\")\n",
    "print(f\"Lasso Accuracy: {accuracy_lasso1}, Lasso AUC: {auc_lasso1}, Lasso Recall: {recall_lasso1}\")"
   ]
  },
  {
   "cell_type": "markdown",
   "metadata": {},
   "source": [
    "For train-test dataset together, we will create our model like this. Right now, we use just our train dataset. We will do it for all of our next models. We get the <code>train_test_split</code> parameters from the results of our train Logistic Regression (we do it for every just-train dataset model)."
   ]
  },
  {
   "cell_type": "code",
   "execution_count": 44,
   "metadata": {
    "execution": {
     "iopub.execute_input": "2024-04-06T20:51:03.244232Z",
     "iopub.status.busy": "2024-04-06T20:51:03.243797Z",
     "iopub.status.idle": "2024-04-06T20:51:03.275225Z",
     "shell.execute_reply": "2024-04-06T20:51:03.274019Z",
     "shell.execute_reply.started": "2024-04-06T20:51:03.244197Z"
    }
   },
   "outputs": [
    {
     "name": "stdout",
     "output_type": "stream",
     "text": [
      "Ridge Accuracy: 0.8656716417910447, Ridge AUC: 0.885518102372035, Ridge Recall: 0.7777777777777778\n",
      "Lasso Accuracy: 0.8656716417910447, Lasso AUC: 0.8887640449438201, Lasso Recall: 0.7777777777777778\n"
     ]
    }
   ],
   "source": [
    "X_train, X_test, y_train, y_test = train_test_split(X_train_scaled, y_train_data, test_size=best_params_logreg2['test_size'], random_state=best_params_logreg2['random_state'])\n",
    "\n",
    "ridge_model = Ridge(alpha=best_alpha_ridge)\n",
    "ridge_model.fit(X_train, y_train)\n",
    "y_ridge_pred_proba = ridge_model.predict(X_test)\n",
    "\n",
    "lasso_model = Lasso(alpha=best_alpha_lasso)\n",
    "lasso_model.fit(X_train, y_train)\n",
    "y_lasso_pred_proba = lasso_model.predict(X_test)\n",
    "\n",
    "# classify predictions based on a threshold\n",
    "\n",
    "y_ridge_pred = (y_ridge_pred_proba > 0.5).astype(int)\n",
    "y_lasso_pred = (y_lasso_pred_proba > 0.5).astype(int)\n",
    "\n",
    "accuracy_ridge2 = accuracy_score(y_test, y_ridge_pred)\n",
    "auc_ridge2 = roc_auc_score(y_test, y_ridge_pred_proba)\n",
    "recall_ridge2 = recall_score(y_test, y_ridge_pred)\n",
    "\n",
    "accuracy_lasso2 = accuracy_score(y_test, y_lasso_pred)\n",
    "auc_lasso2 = roc_auc_score(y_test, y_lasso_pred_proba)\n",
    "recall_lasso2 = recall_score(y_test, y_lasso_pred)\n",
    "\n",
    "print(f\"Ridge Accuracy: {accuracy_ridge2}, Ridge AUC: {auc_ridge2}, Ridge Recall: {recall_ridge2}\")\n",
    "print(f\"Lasso Accuracy: {accuracy_lasso2}, Lasso AUC: {auc_lasso2}, Lasso Recall: {recall_lasso2}\")"
   ]
  },
  {
   "cell_type": "markdown",
   "metadata": {},
   "source": [
    "With the best alpha values we found above, our <code>Ridge and Lasso</code> classificators show us wonderful performance on our <code>submission</code> dataset. Our test was so successful.\n",
    "\n",
    "The best model was the one for test dataset. Let's continue with the <code>kNN</code>."
   ]
  },
  {
   "cell_type": "markdown",
   "metadata": {},
   "source": [
    "## K-Nearest Neighbor Classifier\n",
    "\n",
    "For <code>kNN</code>, we will select our parameters with help of the <code>Elbow</code> method. From <code>Elbow</code> plot, we will select the best <code>k</code> with the best accuracy value.\n",
    "\n",
    "Let's import what we required before this section."
   ]
  },
  {
   "cell_type": "code",
   "execution_count": 45,
   "metadata": {
    "execution": {
     "iopub.execute_input": "2024-04-06T20:51:42.362072Z",
     "iopub.status.busy": "2024-04-06T20:51:42.361661Z",
     "iopub.status.idle": "2024-04-06T20:51:42.368453Z",
     "shell.execute_reply": "2024-04-06T20:51:42.367290Z",
     "shell.execute_reply.started": "2024-04-06T20:51:42.362044Z"
    }
   },
   "outputs": [
    {
     "name": "stdout",
     "output_type": "stream",
     "text": [
      "Succes.\n"
     ]
    }
   ],
   "source": [
    "# imports\n",
    "from sklearn.neighbors import KNeighborsClassifier\n",
    "\n",
    "print('Succes.')"
   ]
  },
  {
   "cell_type": "markdown",
   "metadata": {},
   "source": [
    "Let's look at the <code>Elbow</code> and select the best k value."
   ]
  },
  {
   "cell_type": "code",
   "execution_count": 46,
   "metadata": {
    "execution": {
     "iopub.execute_input": "2024-04-06T20:52:00.734650Z",
     "iopub.status.busy": "2024-04-06T20:52:00.734183Z",
     "iopub.status.idle": "2024-04-06T20:52:01.843134Z",
     "shell.execute_reply": "2024-04-06T20:52:01.841993Z",
     "shell.execute_reply.started": "2024-04-06T20:52:00.734614Z"
    }
   },
   "outputs": [
    {
     "data": {
      "image/png": "[encoded data removed]",
      "text/plain": [
       "<Figure size 640x480 with 1 Axes>"
      ]
     },
     "metadata": {},
     "output_type": "display_data"
    }
   ],
   "source": [
    "# elbow method for k value\n",
    "k_values = range(1, 25)\n",
    "\n",
    "# save the k values\n",
    "accuracy_scores = []\n",
    "\n",
    "# train for every k value\n",
    "for k in k_values:\n",
    "    knn_classifier = KNeighborsClassifier(n_neighbors=k)\n",
    "    knn_classifier.fit(X_train_scaled, y_train_data)\n",
    "    y_pred = knn_classifier.predict(X_test_scaled)\n",
    "    accuracy = accuracy_score(y_submission, y_pred)\n",
    "    accuracy_scores.append(accuracy)\n",
    "\n",
    "# create the plot\n",
    "plt.plot(list(k_values), accuracy_scores, marker='o')\n",
    "plt.xlabel('k')\n",
    "plt.ylabel('Accuracy')\n",
    "plt.title('Elbow Method for Selecting k')\n",
    "plt.gca().invert_yaxis()\n",
    "plt.show()"
   ]
  },
  {
   "cell_type": "markdown",
   "metadata": {},
   "source": [
    "As you can see above, <code>Elbow</code> point is 19. It means that the best <code>k</code> value is 19 for this test size. Let's select <code>k = 19</code> and train our kNN classification model for our model with train-test datasets."
   ]
  },
  {
   "cell_type": "code",
   "execution_count": 48,
   "metadata": {
    "execution": {
     "iopub.execute_input": "2024-04-06T20:53:39.319264Z",
     "iopub.status.busy": "2024-04-06T20:53:39.318209Z",
     "iopub.status.idle": "2024-04-06T20:53:39.649781Z",
     "shell.execute_reply": "2024-04-06T20:53:39.648566Z",
     "shell.execute_reply.started": "2024-04-06T20:53:39.319229Z"
    }
   },
   "outputs": [
    {
     "name": "stdout",
     "output_type": "stream",
     "text": [
      "Accuracy: 0.9186602870813397\n",
      "AUC: 0.9149436090225563\n",
      "Recall: 0.9013157894736842\n",
      "Confusion Matrix:\n",
      "[[247  19]\n",
      " [ 15 137]]\n"
     ]
    },
    {
     "data": {
      "image/png": "[encoded data removed]",
      "text/plain": [
       "<Figure size 800x600 with 2 Axes>"
      ]
     },
     "metadata": {},
     "output_type": "display_data"
    }
   ],
   "source": [
    "# create knn classification model\n",
    "k = 19\n",
    "knn_classifier = KNeighborsClassifier(n_neighbors=k)\n",
    "knn_classifier.fit(X_train_scaled, y_train_data)\n",
    "\n",
    "# test on test dataset\n",
    "y_pred = knn_classifier.predict(X_test_scaled)\n",
    "\n",
    "# evaluate the performance of the model\n",
    "accuracy_knn1 = accuracy_score(y_submission, y_pred)\n",
    "cm_knn1 = confusion_matrix(y_submission, y_pred)\n",
    "auc_knn1 = roc_auc_score(y_submission, y_pred)\n",
    "recall_knn1 = recall_score(y_submission, y_pred)\n",
    "\n",
    "print(\"Accuracy:\", accuracy_knn1)\n",
    "print(\"AUC:\", auc_knn1)\n",
    "print(\"Recall:\", recall_knn1)\n",
    "print(\"Confusion Matrix:\")\n",
    "print(cm_knn1)\n",
    "\n",
    "# plot of confusion matrix\n",
    "cm = confusion_matrix(y_submission, y_pred)\n",
    "plt.figure(figsize=(8, 6))\n",
    "plt.imshow(cm_knn1, interpolation='nearest', cmap='Greens')\n",
    "plt.colorbar()\n",
    "plt.xticks(np.arange(len(np.unique(y_submission))), np.unique(y_submission))\n",
    "plt.yticks(np.arange(len(np.unique(y_submission))), np.unique(y_submission))\n",
    "plt.xlabel('Predicted')\n",
    "plt.ylabel('Actual')\n",
    "plt.title('Confusion Matrix')\n",
    "plt.show()"
   ]
  },
  {
   "cell_type": "markdown",
   "metadata": {},
   "source": [
    "Split and let's do it for the train dataset. K value will come from <code>Elbow</code> again."
   ]
  },
  {
   "cell_type": "code",
   "execution_count": 49,
   "metadata": {
    "execution": {
     "iopub.execute_input": "2024-04-06T20:54:43.169147Z",
     "iopub.status.busy": "2024-04-06T20:54:43.168695Z",
     "iopub.status.idle": "2024-04-06T20:54:43.508230Z",
     "shell.execute_reply": "2024-04-06T20:54:43.507147Z",
     "shell.execute_reply.started": "2024-04-06T20:54:43.169089Z"
    }
   },
   "outputs": [
    {
     "name": "stdout",
     "output_type": "stream",
     "text": [
      "Accuracy: 0.8880597014925373\n",
      "AUC: 0.8662921348314607\n",
      "Recall: 0.8\n",
      "Confusion Matrix:\n",
      "[[83  6]\n",
      " [ 9 36]]\n"
     ]
    },
    {
     "data": {
      "image/png": "[encoded data removed]",
      "text/plain": [
       "<Figure size 800x600 with 2 Axes>"
      ]
     },
     "metadata": {},
     "output_type": "display_data"
    }
   ],
   "source": [
    "# split data\n",
    "X_train, X_test, y_train, y_test = train_test_split(X_train_scaled, y_train_data, test_size=best_params_logreg2['test_size'], random_state=best_params_logreg2['random_state'])\n",
    "\n",
    "# create knn classification model\n",
    "k = 19\n",
    "knn_classifier = KNeighborsClassifier(n_neighbors=k)\n",
    "knn_classifier.fit(X_train, y_train)\n",
    "\n",
    "# test on test dataset\n",
    "y_pred = knn_classifier.predict(X_test)\n",
    "\n",
    "# evaluate the performance of the model\n",
    "accuracy_knn2 = accuracy_score(y_test, y_pred)\n",
    "cm_knn2 = confusion_matrix(y_test, y_pred)\n",
    "auc_knn2 = roc_auc_score(y_test, y_pred)\n",
    "recall_knn2 = recall_score(y_test, y_pred)\n",
    "\n",
    "print(\"Accuracy:\", accuracy_knn2)\n",
    "print(\"AUC:\", auc_knn2)\n",
    "print(\"Recall:\", recall_knn2)\n",
    "print(\"Confusion Matrix:\")\n",
    "print(cm_knn2)\n",
    "\n",
    "# plot of confusion matrix\n",
    "cm = confusion_matrix(y_test, y_pred)\n",
    "plt.figure(figsize=(8, 6))\n",
    "plt.imshow(cm_knn2, interpolation='nearest', cmap='Greens')\n",
    "plt.colorbar()\n",
    "plt.xticks(np.arange(len(np.unique(y_test))), np.unique(y_test))\n",
    "plt.yticks(np.arange(len(np.unique(y_test))), np.unique(y_test))\n",
    "plt.xlabel('Predicted')\n",
    "plt.ylabel('Actual')\n",
    "plt.title('Confusion Matrix')\n",
    "plt.show()"
   ]
  },
  {
   "cell_type": "markdown",
   "metadata": {},
   "source": [
    "As you can see above, we've got higher accuracy in our train-test dataset model. It is more powerful than the second model -just train dataset model. Let's continue with <code>Bayes</code> classification."
   ]
  },
  {
   "cell_type": "markdown",
   "metadata": {
    "execution": {
     "iopub.execute_input": "2024-04-05T08:27:07.471491Z",
     "iopub.status.busy": "2024-04-05T08:27:07.470816Z",
     "iopub.status.idle": "2024-04-05T08:27:07.482198Z",
     "shell.execute_reply": "2024-04-05T08:27:07.480780Z",
     "shell.execute_reply.started": "2024-04-05T08:27:07.471448Z"
    }
   },
   "source": [
    "## Bayes Classification\n",
    "\n",
    "Our target variable <code>Survived</code> column carries 0-1 values, so <code>Bernoulli Naive Bayes</code> classificator suits our idea. So, we will use it for this part. Make the import first."
   ]
  },
  {
   "cell_type": "code",
   "execution_count": 53,
   "metadata": {
    "execution": {
     "iopub.execute_input": "2024-04-06T20:56:31.081775Z",
     "iopub.status.busy": "2024-04-06T20:56:31.081380Z",
     "iopub.status.idle": "2024-04-06T20:56:31.087365Z",
     "shell.execute_reply": "2024-04-06T20:56:31.086230Z",
     "shell.execute_reply.started": "2024-04-06T20:56:31.081749Z"
    }
   },
   "outputs": [
    {
     "name": "stdout",
     "output_type": "stream",
     "text": [
      "Success.\n"
     ]
    }
   ],
   "source": [
    "# imports\n",
    "from sklearn.naive_bayes import BernoulliNB\n",
    "from scipy.stats import uniform, randint\n",
    "from sklearn.model_selection import RandomizedSearchCV\n",
    "\n",
    "print('Success.')"
   ]
  },
  {
   "cell_type": "markdown",
   "metadata": {},
   "source": [
    "So, it is the time to find the best parameters for <code>Bernoulli Naive Bayes</code>. After that we can start. Here, we will use <code>RandomizedSearchCV</code> to find these values."
   ]
  },
  {
   "cell_type": "code",
   "execution_count": 56,
   "metadata": {
    "execution": {
     "iopub.execute_input": "2024-04-06T20:56:55.378347Z",
     "iopub.status.busy": "2024-04-06T20:56:55.377389Z",
     "iopub.status.idle": "2024-04-06T20:56:55.561840Z",
     "shell.execute_reply": "2024-04-06T20:56:55.560992Z",
     "shell.execute_reply.started": "2024-04-06T20:56:55.378315Z"
    }
   },
   "outputs": [
    {
     "name": "stdout",
     "output_type": "stream",
     "text": [
      "The best parameters: {'fit_prior': False, 'binarize': 1.0, 'alpha': 0.1}\n"
     ]
    }
   ],
   "source": [
    "# bernoulli naive bayes\n",
    "bnb = BernoulliNB()\n",
    "\n",
    "# the parameters\n",
    "param_dist = {'alpha': [0.1, 0.5, 1.0],\n",
    "              'binarize': [0.0, 0.5, 1.0],\n",
    "              'fit_prior': [True, False]}\n",
    "\n",
    "# randomizesearchcv\n",
    "random_search_bayes = RandomizedSearchCV(bnb, param_dist, cv=5, scoring='accuracy', n_iter=10)\n",
    "random_search_bayes.fit(X_train_scaled, y_train_data)\n",
    "\n",
    "print(\"The best parameters:\", random_search_bayes.best_params_)\n",
    "\n",
    "# use of the best parameters\n",
    "best_alpha_bayes = random_search_bayes.best_params_['alpha']\n",
    "best_binarize_bayes = random_search_bayes.best_params_['binarize']\n",
    "best_fit_prior_bayes = random_search_bayes.best_params_['fit_prior']"
   ]
  },
  {
   "cell_type": "markdown",
   "metadata": {},
   "source": [
    "Let's continue to the creating our models. First one is our train-test dataset's model."
   ]
  },
  {
   "cell_type": "code",
   "execution_count": 57,
   "metadata": {
    "execution": {
     "iopub.execute_input": "2024-04-06T20:57:38.190220Z",
     "iopub.status.busy": "2024-04-06T20:57:38.189387Z",
     "iopub.status.idle": "2024-04-06T20:57:38.499312Z",
     "shell.execute_reply": "2024-04-06T20:57:38.498255Z",
     "shell.execute_reply.started": "2024-04-06T20:57:38.190186Z"
    }
   },
   "outputs": [
    {
     "name": "stdout",
     "output_type": "stream",
     "text": [
      "Accuracy: 0.9617224880382775\n",
      "AUC: 0.9699248120300752\n",
      "Recall: 1.0\n",
      "Confusion Matrix:\n",
      " [[250  16]\n",
      " [  0 152]]\n"
     ]
    },
    {
     "data": {
      "image/png": "[encoded data removed]",
      "text/plain": [
       "<Figure size 800x600 with 2 Axes>"
      ]
     },
     "metadata": {},
     "output_type": "display_data"
    }
   ],
   "source": [
    "# train bernoulli naive bayes\n",
    "bnb = BernoulliNB(alpha=best_alpha_bayes, binarize=best_binarize_bayes, fit_prior=best_fit_prior_bayes)\n",
    "bnb.fit(X_train_scaled, y_train_data)\n",
    "y_pred = bnb.predict(X_test_scaled)\n",
    "\n",
    "# evaluate the performance\n",
    "accuracy_bayes1 = accuracy_score(y_submission, y_pred)\n",
    "auc_bayes1 = roc_auc_score(y_submission, y_pred)\n",
    "recall_bayes1 = recall_score(y_submission, y_pred)\n",
    "cm_bayes1 = confusion_matrix(y_submission, y_pred)\n",
    "\n",
    "print(\"Accuracy:\", accuracy_bayes1)\n",
    "print(\"AUC:\", auc_bayes1)\n",
    "print(\"Recall:\", recall_bayes1)\n",
    "print(\"Confusion Matrix:\\n\", cm_bayes1)\n",
    "\n",
    "# plot of confusion matrix\n",
    "plt.figure(figsize=(8, 6))\n",
    "plt.imshow(cm_bayes1, interpolation='nearest', cmap='Purples')\n",
    "plt.colorbar()\n",
    "plt.xticks(np.arange(len(np.unique(y_submission))), np.unique(y_submission))\n",
    "plt.yticks(np.arange(len(np.unique(y_submission))), np.unique(y_submission))\n",
    "plt.xlabel('Predicted')\n",
    "plt.ylabel('Actual')\n",
    "plt.title('Confusion Matrix')\n",
    "plt.show()"
   ]
  },
  {
   "cell_type": "markdown",
   "metadata": {},
   "source": [
    "Let's do it just for our train dataset."
   ]
  },
  {
   "cell_type": "code",
   "execution_count": 58,
   "metadata": {
    "execution": {
     "iopub.execute_input": "2024-04-06T20:59:00.555713Z",
     "iopub.status.busy": "2024-04-06T20:59:00.554593Z",
     "iopub.status.idle": "2024-04-06T20:59:00.871228Z",
     "shell.execute_reply": "2024-04-06T20:59:00.870221Z",
     "shell.execute_reply.started": "2024-04-06T20:59:00.555670Z"
    }
   },
   "outputs": [
    {
     "name": "stdout",
     "output_type": "stream",
     "text": [
      "Accuracy: 0.8432835820895522\n",
      "AUC: 0.8270911360799001\n",
      "Recall: 0.7777777777777778\n",
      "Confusion Matrix:\n",
      " [[78 11]\n",
      " [10 35]]\n"
     ]
    },
    {
     "data": {
      "image/png": "[encoded data removed]",
      "text/plain": [
       "<Figure size 800x600 with 2 Axes>"
      ]
     },
     "metadata": {},
     "output_type": "display_data"
    }
   ],
   "source": [
    "X_train, X_test, y_train, y_test = train_test_split(X_train_scaled, y_train_data, test_size=best_params_logreg2['test_size'], random_state=best_params_logreg2['random_state'])\n",
    "\n",
    "# train bernoulli naive bayes\n",
    "bnb = BernoulliNB(alpha=best_alpha_bayes, binarize=best_binarize_bayes, fit_prior=best_fit_prior_bayes)\n",
    "bnb.fit(X_train, y_train)\n",
    "y_pred = bnb.predict(X_test)\n",
    "\n",
    "# evaluate the performance\n",
    "accuracy_bayes2 = accuracy_score(y_test, y_pred)\n",
    "auc_bayes2 = roc_auc_score(y_test, y_pred)\n",
    "recall_bayes2 = recall_score(y_test, y_pred)\n",
    "cm_bayes2 = confusion_matrix(y_test, y_pred)\n",
    "\n",
    "print(\"Accuracy:\", accuracy_bayes2)\n",
    "print(\"AUC:\", auc_bayes2)\n",
    "print(\"Recall:\", recall_bayes2)\n",
    "print(\"Confusion Matrix:\\n\", cm_bayes2)\n",
    "\n",
    "# plot of confusion matrix\n",
    "plt.figure(figsize=(8, 6))\n",
    "plt.imshow(cm_bayes2, interpolation='nearest', cmap='Purples')\n",
    "plt.colorbar()\n",
    "plt.xticks(np.arange(len(np.unique(y_test))), np.unique(y_test))\n",
    "plt.yticks(np.arange(len(np.unique(y_test))), np.unique(y_test))\n",
    "plt.xlabel('Predicted')\n",
    "plt.ylabel('Actual')\n",
    "plt.title('Confusion Matrix')\n",
    "plt.show()"
   ]
  },
  {
   "cell_type": "markdown",
   "metadata": {},
   "source": [
    "As you can see, we have very high scores from both of our <code>Bernoulli Naive Bayes</code> classificators. The best one is the one with train-test dataset together. Let's continue with <code>SVM</code> models."
   ]
  },
  {
   "cell_type": "markdown",
   "metadata": {},
   "source": [
    "## SVM - Support Vector Machine\n",
    "\n",
    "In this part of the project, we will work with different kernels for <code>SVM</code>.\n",
    "\n",
    "### SVM with Linear Kernel\n",
    "\n",
    "This <code>SVM</code> is one of special types of <code>SVM</code>. Let's start with this kernel. Firstly, for imports, run the cell below. Let's start with testing on our test dataset."
   ]
  },
  {
   "cell_type": "code",
   "execution_count": 59,
   "metadata": {
    "execution": {
     "iopub.execute_input": "2024-04-06T20:59:05.843032Z",
     "iopub.status.busy": "2024-04-06T20:59:05.841939Z",
     "iopub.status.idle": "2024-04-06T20:59:05.850278Z",
     "shell.execute_reply": "2024-04-06T20:59:05.849062Z",
     "shell.execute_reply.started": "2024-04-06T20:59:05.842978Z"
    }
   },
   "outputs": [
    {
     "name": "stdout",
     "output_type": "stream",
     "text": [
      "Success.\n"
     ]
    }
   ],
   "source": [
    "# imports\n",
    "from sklearn.svm import SVC\n",
    "from sklearn.model_selection import cross_val_predict\n",
    "\n",
    "print('Success.')"
   ]
  },
  {
   "cell_type": "markdown",
   "metadata": {},
   "source": [
    "Start with training our train-test model dataset. Do a <code>5-fold cross validation</code> to try blocking overfitting."
   ]
  },
  {
   "cell_type": "code",
   "execution_count": 64,
   "metadata": {
    "execution": {
     "iopub.execute_input": "2024-04-06T21:03:34.631518Z",
     "iopub.status.busy": "2024-04-06T21:03:34.631128Z",
     "iopub.status.idle": "2024-04-06T21:03:34.987667Z",
     "shell.execute_reply": "2024-04-06T21:03:34.986457Z",
     "shell.execute_reply.started": "2024-04-06T21:03:34.631488Z"
    }
   },
   "outputs": [
    {
     "name": "stdout",
     "output_type": "stream",
     "text": [
      "Accuracy: 1.0\n",
      "AUC: 1.0\n",
      "Recall: 1.0\n",
      "Confusion Matrix:\n",
      " [[266   0]\n",
      " [  0 152]]\n"
     ]
    },
    {
     "data": {
      "image/png": "[encoded data removed]",
      "text/plain": [
       "<Figure size 800x600 with 2 Axes>"
      ]
     },
     "metadata": {},
     "output_type": "display_data"
    }
   ],
   "source": [
    "# train the model\n",
    "svm_classifier = SVC(kernel='linear', C=10)\n",
    "svm_classifier.fit(X_train_scaled, y_train_data)\n",
    "\n",
    "# cross-validation\n",
    "y_pred = cross_val_predict(svm_classifier, X_test_scaled, y_submission, cv=5)\n",
    "\n",
    "# evaluate performance of model\n",
    "accuracy_linear_svm1 = accuracy_score(y_submission, y_pred)\n",
    "auc_linear_svm1 = roc_auc_score(y_submission, y_pred)\n",
    "recall_linear_svm1 = recall_score(y_submission, y_pred)\n",
    "cm_linear_svm1 = confusion_matrix(y_submission, y_pred)\n",
    "\n",
    "print(\"Accuracy:\", accuracy_linear_svm1)\n",
    "print(\"AUC:\", auc_linear_svm1)\n",
    "print(\"Recall:\", recall_linear_svm1)\n",
    "print(\"Confusion Matrix:\\n\", cm_linear_svm1)\n",
    "\n",
    "# plot of confusion matrix\n",
    "plt.figure(figsize=(8, 6))\n",
    "plt.imshow(cm_linear_svm1, interpolation='nearest', cmap='Oranges')\n",
    "plt.colorbar()\n",
    "plt.xticks(np.arange(len(np.unique(y_train_data))), np.unique(y_train_data))\n",
    "plt.yticks(np.arange(len(np.unique(y_train_data))), np.unique(y_train_data))\n",
    "plt.xlabel('Predicted')\n",
    "plt.ylabel('Actual')\n",
    "plt.title('Confusion Matrix')\n",
    "plt.show()"
   ]
  },
  {
   "cell_type": "markdown",
   "metadata": {},
   "source": [
    "Do it again for the just-train dataset."
   ]
  },
  {
   "cell_type": "code",
   "execution_count": 65,
   "metadata": {
    "execution": {
     "iopub.execute_input": "2024-04-06T21:03:41.963256Z",
     "iopub.status.busy": "2024-04-06T21:03:41.962528Z",
     "iopub.status.idle": "2024-04-06T21:03:42.290035Z",
     "shell.execute_reply": "2024-04-06T21:03:42.289015Z",
     "shell.execute_reply.started": "2024-04-06T21:03:41.963225Z"
    }
   },
   "outputs": [
    {
     "name": "stdout",
     "output_type": "stream",
     "text": [
      "Accuracy: 0.8582089552238806\n",
      "AUC: 0.8383270911360798\n",
      "Recall: 0.7777777777777778\n",
      "Confusion Matrix:\n",
      " [[80  9]\n",
      " [10 35]]\n"
     ]
    },
    {
     "data": {
      "image/png": "[encoded data removed]",
      "text/plain": [
       "<Figure size 800x600 with 2 Axes>"
      ]
     },
     "metadata": {},
     "output_type": "display_data"
    }
   ],
   "source": [
    "# split the data\n",
    "X_train, X_test, y_train, y_test = train_test_split(X_train_scaled, y_train_data, test_size=best_params_logreg2['test_size'], random_state=best_params_logreg2['random_state'])\n",
    "\n",
    "# train the model\n",
    "svm_classifier = SVC(kernel='linear')\n",
    "svm_classifier.fit(X_train, y_train)\n",
    "y_pred = svm_classifier.predict(X_test)\n",
    "\n",
    "# evaluate the performance of model\n",
    "accuracy_linear_svm2 = accuracy_score(y_test, y_pred)\n",
    "auc_linear_svm2 = roc_auc_score(y_test, y_pred)\n",
    "recall_linear_svm2 = recall_score(y_test, y_pred)\n",
    "cm_linear_svm2 = confusion_matrix(y_test, y_pred)\n",
    "\n",
    "print(\"Accuracy:\", accuracy_linear_svm2)\n",
    "print(\"AUC:\", auc_linear_svm2)\n",
    "print(\"Recall:\", recall_linear_svm2)\n",
    "print(\"Confusion Matrix:\\n\", cm_linear_svm2)\n",
    "\n",
    "# plot of confusion matrix\n",
    "plt.figure(figsize=(8, 6))\n",
    "plt.imshow(cm_linear_svm2, interpolation='nearest', cmap='Oranges')\n",
    "plt.colorbar()\n",
    "plt.xticks(np.arange(len(np.unique(y_test))), np.unique(y_test))\n",
    "plt.yticks(np.arange(len(np.unique(y_test))), np.unique(y_test))\n",
    "plt.xlabel('Predicted')\n",
    "plt.ylabel('Actual')\n",
    "plt.title('Confusion Matrix')\n",
    "plt.show()"
   ]
  },
  {
   "cell_type": "markdown",
   "metadata": {},
   "source": [
    "Again, the model using train-test dataset uniform is better. Let's continue with other <code>SVM</code> models with different kernels."
   ]
  },
  {
   "cell_type": "markdown",
   "metadata": {},
   "source": [
    "### Polynomial SVM\n",
    "\n",
    "Let's do the required imports and search with <code>CV</code> for the best polynom degree for this section. First, get the imports."
   ]
  },
  {
   "cell_type": "code",
   "execution_count": 66,
   "metadata": {
    "execution": {
     "iopub.execute_input": "2024-04-06T21:03:50.319048Z",
     "iopub.status.busy": "2024-04-06T21:03:50.318623Z",
     "iopub.status.idle": "2024-04-06T21:03:50.325005Z",
     "shell.execute_reply": "2024-04-06T21:03:50.323883Z",
     "shell.execute_reply.started": "2024-04-06T21:03:50.319015Z"
    }
   },
   "outputs": [
    {
     "name": "stdout",
     "output_type": "stream",
     "text": [
      "Success.\n"
     ]
    }
   ],
   "source": [
    "# imports\n",
    "from sklearn.model_selection import train_test_split, cross_val_score\n",
    "\n",
    "print('Success.')"
   ]
  },
  {
   "cell_type": "markdown",
   "metadata": {},
   "source": [
    "Let's search for the best <code>degree</code> value."
   ]
  },
  {
   "cell_type": "code",
   "execution_count": 67,
   "metadata": {
    "execution": {
     "iopub.execute_input": "2024-04-06T21:04:06.327607Z",
     "iopub.status.busy": "2024-04-06T21:04:06.326523Z",
     "iopub.status.idle": "2024-04-06T21:04:06.838831Z",
     "shell.execute_reply": "2024-04-06T21:04:06.837469Z",
     "shell.execute_reply.started": "2024-04-06T21:04:06.327560Z"
    }
   },
   "outputs": [
    {
     "name": "stdout",
     "output_type": "stream",
     "text": [
      "The best degree for polynom: 2\n"
     ]
    }
   ],
   "source": [
    "# polynom degrees\n",
    "degrees = [1, 2, 3, 4, 5]\n",
    "\n",
    "# 5-fold cross validation\n",
    "mean_scores = []\n",
    "for degree in degrees:\n",
    "    svm_classifier = SVC(kernel='poly', degree=degree)\n",
    "    scores = cross_val_score(svm_classifier, X_train_scaled, y_train_data, cv=5)\n",
    "    mean_scores.append(np.mean(scores))\n",
    "\n",
    "# find the best degree\n",
    "best_degree = degrees[np.argmax(mean_scores)]\n",
    "print(\"The best degree for polynom:\", best_degree)"
   ]
  },
  {
   "cell_type": "markdown",
   "metadata": {},
   "source": [
    "Let's apply it on our train-test dataset."
   ]
  },
  {
   "cell_type": "code",
   "execution_count": 68,
   "metadata": {
    "execution": {
     "iopub.execute_input": "2024-04-06T21:04:58.171382Z",
     "iopub.status.busy": "2024-04-06T21:04:58.170981Z",
     "iopub.status.idle": "2024-04-06T21:04:58.501763Z",
     "shell.execute_reply": "2024-04-06T21:04:58.498524Z",
     "shell.execute_reply.started": "2024-04-06T21:04:58.171352Z"
    }
   },
   "outputs": [
    {
     "name": "stdout",
     "output_type": "stream",
     "text": [
      "Accuracy: 0.9736842105263158\n",
      "AUC: 0.9736842105263158\n",
      "Recall: 0.9736842105263158\n",
      "Confusion Matrix:\n",
      " [[259   7]\n",
      " [  4 148]]\n"
     ]
    },
    {
     "data": {
      "image/png": "[encoded data removed]",
      "text/plain": [
       "<Figure size 800x600 with 2 Axes>"
      ]
     },
     "metadata": {},
     "output_type": "display_data"
    }
   ],
   "source": [
    "# train the model\n",
    "svm_classifier = SVC(kernel='poly', degree=best_degree)\n",
    "svm_classifier.fit(X_train_scaled, y_train_data)\n",
    "y_pred = svm_classifier.predict(X_test_scaled)\n",
    "\n",
    "# evaluate the performance of model\n",
    "accuracy_polynomial_svm1 = accuracy_score(y_submission, y_pred)\n",
    "auc_polynomial_svm1 = roc_auc_score(y_submission, y_pred)\n",
    "recall_polynomial_svm1 = recall_score(y_submission, y_pred)\n",
    "cm_polynomial_svm1 = confusion_matrix(y_submission, y_pred)\n",
    "\n",
    "print(\"Accuracy:\", accuracy_polynomial_svm1)\n",
    "print(\"AUC:\", auc_polynomial_svm1)\n",
    "print(\"Recall:\", recall_polynomial_svm1)\n",
    "print(\"Confusion Matrix:\\n\", cm_polynomial_svm1)\n",
    "\n",
    "# plot of confusion matrix\n",
    "plt.figure(figsize=(8, 6))\n",
    "plt.imshow(cm_polynomial_svm1, interpolation='nearest', cmap='Reds')\n",
    "plt.colorbar()\n",
    "plt.xticks(np.arange(len(np.unique(y_submission))), np.unique(y_submission))\n",
    "plt.yticks(np.arange(len(np.unique(y_submission))), np.unique(y_submission))\n",
    "plt.xlabel('Predicted')\n",
    "plt.ylabel('Actual')\n",
    "plt.title('Confusion Matrix')\n",
    "plt.show()"
   ]
  },
  {
   "cell_type": "markdown",
   "metadata": {},
   "source": [
    "Let's do it with our train dataset."
   ]
  },
  {
   "cell_type": "code",
   "execution_count": 69,
   "metadata": {
    "execution": {
     "iopub.execute_input": "2024-04-06T21:06:26.880501Z",
     "iopub.status.busy": "2024-04-06T21:06:26.879515Z",
     "iopub.status.idle": "2024-04-06T21:06:27.227530Z",
     "shell.execute_reply": "2024-04-06T21:06:27.226121Z",
     "shell.execute_reply.started": "2024-04-06T21:06:26.880464Z"
    }
   },
   "outputs": [
    {
     "name": "stdout",
     "output_type": "stream",
     "text": [
      "Accuracy: 0.8805970149253731\n",
      "AUC: 0.8551810237203495\n",
      "Recall: 0.7777777777777778\n",
      "Confusion Matrix:\n",
      " [[83  6]\n",
      " [10 35]]\n"
     ]
    },
    {
     "data": {
      "image/png": "[encoded data removed]",
      "text/plain": [
       "<Figure size 800x600 with 2 Axes>"
      ]
     },
     "metadata": {},
     "output_type": "display_data"
    }
   ],
   "source": [
    "# split data\n",
    "X_train, X_test, y_train, y_test = train_test_split(X_train_scaled, y_train_data, test_size=best_params_logreg2['test_size'], random_state=best_params_logreg2['random_state'])\n",
    "\n",
    "# train the model\n",
    "svm_classifier = SVC(kernel='poly', degree=best_degree)\n",
    "svm_classifier.fit(X_train, y_train)\n",
    "y_pred = svm_classifier.predict(X_test)\n",
    "\n",
    "# evaluate the performance of model\n",
    "accuracy_polynomial_svm2 = accuracy_score(y_test, y_pred)\n",
    "auc_polynomial_svm2 = roc_auc_score(y_test, y_pred)\n",
    "recall_polynomial_svm2 = recall_score(y_test, y_pred)\n",
    "cm_polynomial_svm2 = confusion_matrix(y_test, y_pred)\n",
    "\n",
    "print(\"Accuracy:\", accuracy_polynomial_svm2)\n",
    "print(\"AUC:\", auc_polynomial_svm2)\n",
    "print(\"Recall:\", recall_polynomial_svm2)\n",
    "print(\"Confusion Matrix:\\n\", cm_polynomial_svm2)\n",
    "\n",
    "# plot of confusion matrix\n",
    "plt.figure(figsize=(8, 6))\n",
    "plt.imshow(cm_polynomial_svm2, interpolation='nearest', cmap='Reds')\n",
    "plt.colorbar()\n",
    "plt.xticks(np.arange(len(np.unique(y_test))), np.unique(y_test))\n",
    "plt.yticks(np.arange(len(np.unique(y_test))), np.unique(y_test))\n",
    "plt.xlabel('Predicted')\n",
    "plt.ylabel('Actual')\n",
    "plt.title('Confusion Matrix')\n",
    "plt.show()"
   ]
  },
  {
   "cell_type": "markdown",
   "metadata": {},
   "source": [
    "As you can see, the model that has train-test together scored well. Other model is also good, but the first one is the best. Its parameters selected by the code we used before. Let's continue with our next <code>SVM</code> model."
   ]
  },
  {
   "cell_type": "markdown",
   "metadata": {
    "execution": {
     "iopub.execute_input": "2024-04-05T11:54:59.574545Z",
     "iopub.status.busy": "2024-04-05T11:54:59.573910Z",
     "iopub.status.idle": "2024-04-05T11:54:59.580715Z",
     "shell.execute_reply": "2024-04-05T11:54:59.579121Z",
     "shell.execute_reply.started": "2024-04-05T11:54:59.574493Z"
    }
   },
   "source": [
    "### Gaussian SVM\n",
    "\n",
    "For <code>Gaussian SVM</code>, we will test and make <code>GridSearchCV</code> for the best Gaussian parameters. Let's start."
   ]
  },
  {
   "cell_type": "code",
   "execution_count": 70,
   "metadata": {
    "execution": {
     "iopub.execute_input": "2024-04-06T21:06:51.249442Z",
     "iopub.status.busy": "2024-04-06T21:06:51.249045Z",
     "iopub.status.idle": "2024-04-06T21:06:56.645832Z",
     "shell.execute_reply": "2024-04-06T21:06:56.644513Z",
     "shell.execute_reply.started": "2024-04-06T21:06:51.249412Z"
    }
   },
   "outputs": [
    {
     "name": "stdout",
     "output_type": "stream",
     "text": [
      "The best parameters: {'C': 1, 'gamma': 0.1}\n"
     ]
    }
   ],
   "source": [
    "# parameter intervals\n",
    "param_grid = {'C': [0.001, 0.01, 0.1, 1, 10, 100],\n",
    "              'gamma': [0.001, 0.01, 0.1, 1, 10, 100]}\n",
    "\n",
    "# gridsearchcv\n",
    "svm_classifier_gauss = GridSearchCV(SVC(kernel='rbf'), param_grid, cv=5)\n",
    "svm_classifier_gauss.fit(X_train_scaled, y_train_data)\n",
    "\n",
    "# print the best parameters\n",
    "print(\"The best parameters:\", svm_classifier_gauss.best_params_)"
   ]
  },
  {
   "cell_type": "markdown",
   "metadata": {},
   "source": [
    "Our best parameters are <code>'C' = 1</code> and <code>'gamma' = 0.1</code>. Let's use them on our model with test dataset."
   ]
  },
  {
   "cell_type": "code",
   "execution_count": 76,
   "metadata": {
    "execution": {
     "iopub.execute_input": "2024-04-06T21:10:07.939586Z",
     "iopub.status.busy": "2024-04-06T21:10:07.938367Z",
     "iopub.status.idle": "2024-04-06T21:10:08.265784Z",
     "shell.execute_reply": "2024-04-06T21:10:08.264403Z",
     "shell.execute_reply.started": "2024-04-06T21:10:07.939547Z"
    }
   },
   "outputs": [
    {
     "name": "stdout",
     "output_type": "stream",
     "text": [
      "Accuracy: 0.9521531100478469\n",
      "AUC: 0.9468984962406015\n",
      "Recall: 0.9276315789473685\n",
      "Confusion Matrix:\n",
      " [[257   9]\n",
      " [ 11 141]]\n"
     ]
    },
    {
     "data": {
      "image/png": "[encoded data removed]",
      "text/plain": [
       "<Figure size 800x600 with 2 Axes>"
      ]
     },
     "metadata": {},
     "output_type": "display_data"
    }
   ],
   "source": [
    "# train gauss svm\n",
    "svm_classifier = SVC(kernel='rbf', C=svm_classifier_gauss.best_params_['C'], gamma=svm_classifier_gauss.best_params_['gamma'])\n",
    "svm_classifier.fit(X_train_scaled, y_train_data)\n",
    "y_pred = svm_classifier.predict(X_test_scaled)\n",
    "\n",
    "# evaluate the performance of model\n",
    "accuracy_gauss_svm1 = accuracy_score(y_submission, y_pred)\n",
    "auc_gauss_svm1 = roc_auc_score(y_submission, y_pred)\n",
    "recall_gauss_svm1 = recall_score(y_submission, y_pred)\n",
    "cm_gauss_svm1 = confusion_matrix(y_submission, y_pred)\n",
    "\n",
    "print(\"Accuracy:\", accuracy_gauss_svm1)\n",
    "print(\"AUC:\", auc_gauss_svm1)\n",
    "print(\"Recall:\", recall_gauss_svm1)\n",
    "print(\"Confusion Matrix:\\n\", cm_gauss_svm1)\n",
    "\n",
    "# plot of confusion matrix\n",
    "plt.figure(figsize=(8, 6))\n",
    "plt.imshow(cm_gauss_svm1, interpolation='nearest', cmap='Blues')\n",
    "plt.colorbar()\n",
    "plt.xticks(np.arange(len(np.unique(y_submission))), np.unique(y_submission))\n",
    "plt.yticks(np.arange(len(np.unique(y_submission))), np.unique(y_submission))\n",
    "plt.xlabel('Predicted')\n",
    "plt.ylabel('Actual')\n",
    "plt.title('Confusion Matrix')\n",
    "plt.show()"
   ]
  },
  {
   "cell_type": "markdown",
   "metadata": {},
   "source": [
    "Let's use the best parameters for just our train dataset."
   ]
  },
  {
   "cell_type": "code",
   "execution_count": 77,
   "metadata": {
    "execution": {
     "iopub.execute_input": "2024-04-06T21:12:18.733693Z",
     "iopub.status.busy": "2024-04-06T21:12:18.733302Z",
     "iopub.status.idle": "2024-04-06T21:12:19.068182Z",
     "shell.execute_reply": "2024-04-06T21:12:19.066981Z",
     "shell.execute_reply.started": "2024-04-06T21:12:18.733665Z"
    }
   },
   "outputs": [
    {
     "name": "stdout",
     "output_type": "stream",
     "text": [
      "Accuracy: 0.8731343283582089\n",
      "AUC: 0.8440699126092385\n",
      "Recall: 0.7555555555555555\n",
      "Confusion Matrix:\n",
      " [[83  6]\n",
      " [11 34]]\n"
     ]
    },
    {
     "data": {
      "image/png": "[encoded data removed]",
      "text/plain": [
       "<Figure size 800x600 with 2 Axes>"
      ]
     },
     "metadata": {},
     "output_type": "display_data"
    }
   ],
   "source": [
    "# split data\n",
    "X_train, X_test, y_train, y_test = train_test_split(X_train_scaled, y_train_data, test_size=best_params_logreg2['test_size'], random_state=best_params_logreg2['random_state'])\n",
    "\n",
    "# train gauss svm\n",
    "svm_classifier = SVC(kernel='rbf', C=svm_classifier_gauss.best_params_['C'], gamma=svm_classifier_gauss.best_params_['gamma'])\n",
    "svm_classifier.fit(X_train, y_train)\n",
    "y_pred = svm_classifier.predict(X_test)\n",
    "\n",
    "# evaluate the performance of model\n",
    "accuracy_gauss_svm2 = accuracy_score(y_test, y_pred)\n",
    "auc_gauss_svm2 = roc_auc_score(y_test, y_pred)\n",
    "recall_gauss_svm2 = recall_score(y_test, y_pred)\n",
    "cm_gauss_svm2 = confusion_matrix(y_test, y_pred)\n",
    "\n",
    "print(\"Accuracy:\", accuracy_gauss_svm2)\n",
    "print(\"AUC:\", auc_gauss_svm2)\n",
    "print(\"Recall:\", recall_gauss_svm2)\n",
    "print(\"Confusion Matrix:\\n\", cm_gauss_svm2)\n",
    "\n",
    "# plot of confusion matrix\n",
    "plt.figure(figsize=(8, 6))\n",
    "plt.imshow(cm_gauss_svm2, interpolation='nearest', cmap='Blues')\n",
    "plt.colorbar()\n",
    "plt.xticks(np.arange(len(np.unique(y_test))), np.unique(y_test))\n",
    "plt.yticks(np.arange(len(np.unique(y_test))), np.unique(y_test))\n",
    "plt.xlabel('Predicted')\n",
    "plt.ylabel('Actual')\n",
    "plt.title('Confusion Matrix')\n",
    "plt.show()"
   ]
  },
  {
   "cell_type": "markdown",
   "metadata": {},
   "source": [
    "The model is powerful for our train-test dataset, but not good for the model with just train dataset. This part is end of our <code>SVM</code> section. Let's continue to <code>Decision Trees</code>."
   ]
  },
  {
   "cell_type": "markdown",
   "metadata": {},
   "source": [
    "## Decision Trees"
   ]
  },
  {
   "cell_type": "markdown",
   "metadata": {},
   "source": [
    "First of all, let's get our imports."
   ]
  },
  {
   "cell_type": "code",
   "execution_count": 78,
   "metadata": {
    "execution": {
     "iopub.execute_input": "2024-04-06T21:12:24.199676Z",
     "iopub.status.busy": "2024-04-06T21:12:24.199246Z",
     "iopub.status.idle": "2024-04-06T21:12:24.237003Z",
     "shell.execute_reply": "2024-04-06T21:12:24.235928Z",
     "shell.execute_reply.started": "2024-04-06T21:12:24.199643Z"
    }
   },
   "outputs": [
    {
     "name": "stdout",
     "output_type": "stream",
     "text": [
      "Success.\n"
     ]
    }
   ],
   "source": [
    "# imports\n",
    "from sklearn.tree import DecisionTreeClassifier\n",
    "\n",
    "print('Success.')"
   ]
  },
  {
   "cell_type": "markdown",
   "metadata": {},
   "source": [
    "Right now, let's find the best parameters for <code>Decision Tree</code> classifier with <code>GridSearchCV</code>."
   ]
  },
  {
   "cell_type": "code",
   "execution_count": 84,
   "metadata": {
    "execution": {
     "iopub.execute_input": "2024-04-06T21:17:37.658685Z",
     "iopub.status.busy": "2024-04-06T21:17:37.658280Z",
     "iopub.status.idle": "2024-04-06T21:17:38.547046Z",
     "shell.execute_reply": "2024-04-06T21:17:38.545775Z",
     "shell.execute_reply.started": "2024-04-06T21:17:37.658656Z"
    }
   },
   "outputs": [
    {
     "name": "stdout",
     "output_type": "stream",
     "text": [
      "The best parameters: {'max_depth': 10, 'min_samples_leaf': 1, 'min_samples_split': 5}\n"
     ]
    }
   ],
   "source": [
    "# parameters interval\n",
    "param_grid = {'max_depth': [None, 5, 10, 15, 20],\n",
    "              'min_samples_split': [2, 5, 10],\n",
    "              'min_samples_leaf': [1, 2, 4]}\n",
    "\n",
    "# gridsearchcv\n",
    "dt_classifier_dt = GridSearchCV(DecisionTreeClassifier(), param_grid, cv=5)\n",
    "dt_classifier_dt.fit(X_train_scaled, y_train_data)\n",
    "\n",
    "# the best parameters\n",
    "print(\"The best parameters:\", dt_classifier_dt.best_params_)"
   ]
  },
  {
   "cell_type": "markdown",
   "metadata": {},
   "source": [
    "Let's use there parameters to work with our train-test union dataset."
   ]
  },
  {
   "cell_type": "code",
   "execution_count": 85,
   "metadata": {
    "execution": {
     "iopub.execute_input": "2024-04-06T21:17:42.613503Z",
     "iopub.status.busy": "2024-04-06T21:17:42.613098Z",
     "iopub.status.idle": "2024-04-06T21:17:42.948337Z",
     "shell.execute_reply": "2024-04-06T21:17:42.947185Z",
     "shell.execute_reply.started": "2024-04-06T21:17:42.613470Z"
    }
   },
   "outputs": [
    {
     "name": "stdout",
     "output_type": "stream",
     "text": [
      "Accuracy: 0.8301435406698564\n",
      "AUC: 0.7988721804511278\n",
      "Recall: 0.6842105263157895\n",
      "Confusion Matrix:\n",
      " [[243  23]\n",
      " [ 48 104]]\n"
     ]
    },
    {
     "data": {
      "image/png": "[encoded data removed]",
      "text/plain": [
       "<Figure size 800x600 with 2 Axes>"
      ]
     },
     "metadata": {},
     "output_type": "display_data"
    }
   ],
   "source": [
    "# train the model\n",
    "dt_classifier = DecisionTreeClassifier(max_depth=dt_classifier_dt.best_params_['max_depth'], min_samples_leaf=dt_classifier_dt.best_params_['min_samples_leaf'], min_samples_split=dt_classifier_dt.best_params_['min_samples_split'])\n",
    "dt_classifier.fit(X_train_scaled, y_train_data)\n",
    "y_pred = dt_classifier.predict(X_test_scaled)\n",
    "\n",
    "# evaluate the performance of model\n",
    "accuracy_dt1 = accuracy_score(y_submission, y_pred)\n",
    "auc_dt1 = roc_auc_score(y_submission, y_pred)\n",
    "recall_dt1 = recall_score(y_submission, y_pred)\n",
    "cm_dt1 = confusion_matrix(y_submission, y_pred)\n",
    "\n",
    "print(\"Accuracy:\", accuracy_dt1)\n",
    "print(\"AUC:\", auc_dt1)\n",
    "print(\"Recall:\", recall_dt1)\n",
    "print(\"Confusion Matrix:\\n\", cm_dt1)\n",
    "\n",
    "# plot of confusion matrix\n",
    "plt.figure(figsize=(8, 6))\n",
    "plt.imshow(cm_dt1, interpolation='nearest', cmap='Oranges')\n",
    "plt.colorbar()\n",
    "plt.xticks(np.arange(len(np.unique(y_submission))), np.unique(y_submission))\n",
    "plt.yticks(np.arange(len(np.unique(y_submission))), np.unique(y_submission))\n",
    "plt.xlabel('Predicted')\n",
    "plt.ylabel('Actual')\n",
    "plt.title('Confusion Matrix')\n",
    "plt.show()"
   ]
  },
  {
   "cell_type": "markdown",
   "metadata": {},
   "source": [
    "Let's work with just our train dataset."
   ]
  },
  {
   "cell_type": "code",
   "execution_count": 86,
   "metadata": {
    "execution": {
     "iopub.execute_input": "2024-04-06T21:17:46.210950Z",
     "iopub.status.busy": "2024-04-06T21:17:46.209895Z",
     "iopub.status.idle": "2024-04-06T21:17:46.544879Z",
     "shell.execute_reply": "2024-04-06T21:17:46.543681Z",
     "shell.execute_reply.started": "2024-04-06T21:17:46.210909Z"
    }
   },
   "outputs": [
    {
     "name": "stdout",
     "output_type": "stream",
     "text": [
      "Accuracy: 0.8656716417910447\n",
      "AUC: 0.8329588014981275\n",
      "Recall: 0.7333333333333333\n",
      "Confusion Matrix:\n",
      " [[83  6]\n",
      " [12 33]]\n"
     ]
    },
    {
     "data": {
      "image/png": "[encoded data removed]",
      "text/plain": [
       "<Figure size 800x600 with 2 Axes>"
      ]
     },
     "metadata": {},
     "output_type": "display_data"
    }
   ],
   "source": [
    "# split data\n",
    "X_train, X_test, y_train, y_test = train_test_split(X_train_scaled, y_train_data, test_size=best_params_logreg2['test_size'], random_state=best_params_logreg2['random_state'])\n",
    "\n",
    "# train the model\n",
    "dt_classifier = DecisionTreeClassifier(max_depth=dt_classifier_dt.best_params_['max_depth'], min_samples_leaf=dt_classifier_dt.best_params_['min_samples_leaf'], min_samples_split=dt_classifier_dt.best_params_['min_samples_split'])\n",
    "dt_classifier.fit(X_train, y_train)\n",
    "y_pred = dt_classifier.predict(X_test)\n",
    "\n",
    "# evaluate the model performance\n",
    "accuracy_dt2 = accuracy_score(y_test, y_pred)\n",
    "auc_dt2 = roc_auc_score(y_test, y_pred)\n",
    "recall_dt2 = recall_score(y_test, y_pred)\n",
    "cm_dt2 = confusion_matrix(y_test, y_pred)\n",
    "\n",
    "print(\"Accuracy:\", accuracy_dt2)\n",
    "print(\"AUC:\", auc_dt2)\n",
    "print(\"Recall:\", recall_dt2)\n",
    "print(\"Confusion Matrix:\\n\", cm_dt2)\n",
    "\n",
    "# plot of confusion matrix\n",
    "plt.figure(figsize=(8, 6))\n",
    "plt.imshow(cm_dt2, interpolation='nearest', cmap='Oranges')\n",
    "plt.colorbar()\n",
    "plt.xticks(np.arange(len(np.unique(y_test))), np.unique(y_test))\n",
    "plt.yticks(np.arange(len(np.unique(y_test))), np.unique(y_test))\n",
    "plt.xlabel('Predicted')\n",
    "plt.ylabel('Actual')\n",
    "plt.title('Confusion Matrix')\n",
    "plt.show()"
   ]
  },
  {
   "cell_type": "markdown",
   "metadata": {},
   "source": [
    "Their accuracy rate is changing as you see, but the train-test union model is better if we talk about the means. Let's continue to the <code>Random Forest</code>"
   ]
  },
  {
   "cell_type": "markdown",
   "metadata": {},
   "source": [
    "## Random Forest"
   ]
  },
  {
   "cell_type": "markdown",
   "metadata": {},
   "source": [
    "In <code>Random Forest</code> classifier, we use the best parameters from our <code>Decision Tree</code>. From tree to forest, let's import required library first."
   ]
  },
  {
   "cell_type": "code",
   "execution_count": 87,
   "metadata": {
    "execution": {
     "iopub.execute_input": "2024-04-06T21:18:02.256254Z",
     "iopub.status.busy": "2024-04-06T21:18:02.255796Z",
     "iopub.status.idle": "2024-04-06T21:18:02.330884Z",
     "shell.execute_reply": "2024-04-06T21:18:02.329688Z",
     "shell.execute_reply.started": "2024-04-06T21:18:02.256218Z"
    }
   },
   "outputs": [
    {
     "name": "stdout",
     "output_type": "stream",
     "text": [
      "Success.\n"
     ]
    }
   ],
   "source": [
    "# imports\n",
    "from sklearn.ensemble import RandomForestClassifier\n",
    "\n",
    "print('Success.')"
   ]
  },
  {
   "cell_type": "markdown",
   "metadata": {},
   "source": [
    "Let's train our model with the test dataset at first. We found the best parameters before, in <code>Decision Trees</code>. Use them here, because they are similar models to each other."
   ]
  },
  {
   "cell_type": "code",
   "execution_count": 89,
   "metadata": {
    "execution": {
     "iopub.execute_input": "2024-04-06T21:19:35.580572Z",
     "iopub.status.busy": "2024-04-06T21:19:35.580170Z",
     "iopub.status.idle": "2024-04-06T21:19:36.199855Z",
     "shell.execute_reply": "2024-04-06T21:19:36.198754Z",
     "shell.execute_reply.started": "2024-04-06T21:19:35.580542Z"
    }
   },
   "outputs": [
    {
     "name": "stdout",
     "output_type": "stream",
     "text": [
      "Accuracy: 0.8277511961722488\n",
      "AUC: 0.8040413533834586\n",
      "Recall 0.7171052631578947\n",
      "Confusion Matrix:\n",
      " [[237  29]\n",
      " [ 43 109]]\n"
     ]
    },
    {
     "data": {
      "image/png": "[encoded data removed]",
      "text/plain": [
       "<Figure size 800x600 with 2 Axes>"
      ]
     },
     "metadata": {},
     "output_type": "display_data"
    }
   ],
   "source": [
    "# create the model\n",
    "rf_classifier = RandomForestClassifier(n_estimators=100, max_depth=dt_classifier_dt.best_params_['max_depth'], min_samples_leaf=dt_classifier_dt.best_params_['min_samples_leaf'], min_samples_split=dt_classifier_dt.best_params_['min_samples_split'])\n",
    "rf_classifier.fit(X_train_scaled, y_train_data)\n",
    "y_pred = rf_classifier.predict(X_test_scaled)\n",
    "\n",
    "# evaluate the performance of model\n",
    "accuracy_rf1 = accuracy_score(y_submission, y_pred)\n",
    "auc_rf1 = roc_auc_score(y_submission, y_pred)\n",
    "recall_rf1 = recall_score(y_submission, y_pred)\n",
    "cm_rf1 = confusion_matrix(y_submission, y_pred)\n",
    "\n",
    "print(\"Accuracy:\", accuracy_rf1)\n",
    "print(\"AUC:\", auc_rf1)\n",
    "print(\"Recall\", recall_rf1)\n",
    "print(\"Confusion Matrix:\\n\", cm_rf1)\n",
    "\n",
    "# plot of confusion matrix\n",
    "plt.figure(figsize=(8, 6))\n",
    "plt.imshow(cm_rf1, interpolation='nearest', cmap='Purples')\n",
    "plt.colorbar()\n",
    "plt.xticks(np.arange(len(np.unique(y_submission))), np.unique(y_submission))\n",
    "plt.yticks(np.arange(len(np.unique(y_submission))), np.unique(y_submission))\n",
    "plt.xlabel('Predicted')\n",
    "plt.ylabel('Actual')\n",
    "plt.title('Confusion Matrix')\n",
    "plt.show()"
   ]
  },
  {
   "cell_type": "markdown",
   "metadata": {},
   "source": [
    "Right now, do the same thing the model below. It will use just train dataset. It will be splitted."
   ]
  },
  {
   "cell_type": "code",
   "execution_count": 90,
   "metadata": {
    "execution": {
     "iopub.execute_input": "2024-04-06T21:20:49.653446Z",
     "iopub.status.busy": "2024-04-06T21:20:49.653001Z",
     "iopub.status.idle": "2024-04-06T21:20:50.255236Z",
     "shell.execute_reply": "2024-04-06T21:20:50.254082Z",
     "shell.execute_reply.started": "2024-04-06T21:20:49.653413Z"
    }
   },
   "outputs": [
    {
     "name": "stdout",
     "output_type": "stream",
     "text": [
      "Accuracy: 0.8880597014925373\n",
      "AUC: 0.8717852684144819\n",
      "Recall 0.8222222222222222\n",
      "Confusion Matrix:\n",
      " [[82  7]\n",
      " [ 8 37]]\n"
     ]
    },
    {
     "data": {
      "image/png": "[encoded data removed]",
      "text/plain": [
       "<Figure size 800x600 with 2 Axes>"
      ]
     },
     "metadata": {},
     "output_type": "display_data"
    }
   ],
   "source": [
    "# split the data\n",
    "X_train, X_test, y_train, y_test = train_test_split(X_train_scaled, y_train_data, test_size=best_params_logreg2['test_size'], random_state=best_params_logreg2['random_state'])\n",
    "\n",
    "# create random forest model\n",
    "rf_classifier = RandomForestClassifier(n_estimators=100, max_depth=dt_classifier_dt.best_params_['max_depth'], min_samples_leaf=dt_classifier_dt.best_params_['min_samples_leaf'], min_samples_split=dt_classifier_dt.best_params_['min_samples_split'])\n",
    "rf_classifier.fit(X_train, y_train)\n",
    "y_pred = rf_classifier.predict(X_test)\n",
    "\n",
    "# evaluate the performance of model\n",
    "accuracy_rf2 = accuracy_score(y_test, y_pred)\n",
    "auc_rf2 = roc_auc_score(y_test, y_pred)\n",
    "recall_rf2 = recall_score(y_test, y_pred)\n",
    "cm_rf2 = confusion_matrix(y_test, y_pred)\n",
    "\n",
    "print(\"Accuracy:\", accuracy_rf2)\n",
    "print(\"AUC:\", auc_rf2)\n",
    "print(\"Recall\", recall_rf2)\n",
    "print(\"Confusion Matrix:\\n\", cm_rf2)\n",
    "\n",
    "# plot of confusion matrix\n",
    "plt.figure(figsize=(8, 6))\n",
    "plt.imshow(cm_rf2, interpolation='nearest', cmap='Purples')\n",
    "plt.colorbar()\n",
    "plt.xticks(np.arange(len(np.unique(y_test))), np.unique(y_test))\n",
    "plt.yticks(np.arange(len(np.unique(y_test))), np.unique(y_test))\n",
    "plt.xlabel('Predicted')\n",
    "plt.ylabel('Actual')\n",
    "plt.title('Confusion Matrix')\n",
    "plt.show()"
   ]
  },
  {
   "cell_type": "markdown",
   "metadata": {},
   "source": [
    "As you can see, these models have similar performance. If we get mean of the both of these model, you can see they are nearly the same. Let's continue with <code>AdaBoost</code>."
   ]
  },
  {
   "cell_type": "markdown",
   "metadata": {},
   "source": [
    "## AdaBoost\n",
    "\n",
    "<code>AdaBoost</code> is also similar to <code>Decision Trees</code>, but different method like <code>Random Forest</code>. Let's start creating <code>AdaBoost</code> classifier with importing required library."
   ]
  },
  {
   "cell_type": "code",
   "execution_count": 91,
   "metadata": {
    "execution": {
     "iopub.execute_input": "2024-04-06T21:20:56.453237Z",
     "iopub.status.busy": "2024-04-06T21:20:56.451916Z",
     "iopub.status.idle": "2024-04-06T21:20:56.458976Z",
     "shell.execute_reply": "2024-04-06T21:20:56.457797Z",
     "shell.execute_reply.started": "2024-04-06T21:20:56.453197Z"
    }
   },
   "outputs": [
    {
     "name": "stdout",
     "output_type": "stream",
     "text": [
      "Success.\n"
     ]
    }
   ],
   "source": [
    "# imports\n",
    "from sklearn.ensemble import AdaBoostClassifier\n",
    "\n",
    "print('Success.')"
   ]
  },
  {
   "cell_type": "markdown",
   "metadata": {},
   "source": [
    "In <code>AdaBoost</code>, we can use the same parameters with <code>Decision Tree</code> and <code>Random Forest</code> parameters, but it is good to use different parameters. Let's do it with <code>GridSearchCV</code>."
   ]
  },
  {
   "cell_type": "code",
   "execution_count": 92,
   "metadata": {
    "execution": {
     "iopub.execute_input": "2024-04-06T21:21:35.368043Z",
     "iopub.status.busy": "2024-04-06T21:21:35.367406Z",
     "iopub.status.idle": "2024-04-06T21:21:47.054899Z",
     "shell.execute_reply": "2024-04-06T21:21:47.053748Z",
     "shell.execute_reply.started": "2024-04-06T21:21:35.367996Z"
    }
   },
   "outputs": [
    {
     "name": "stdout",
     "output_type": "stream",
     "text": [
      "The best parameters: {'learning_rate': 1.0, 'n_estimators': 100}\n"
     ]
    }
   ],
   "source": [
    "# adaboost\n",
    "param_grid = {\n",
    "    'n_estimators': [50, 100, 150],\n",
    "    'learning_rate': [0.01, 0.1, 1.0]\n",
    "}\n",
    "\n",
    "adaboost = AdaBoostClassifier()\n",
    "\n",
    "# gridsearchcv\n",
    "grid_search_adaboost = GridSearchCV(adaboost, param_grid, cv=5)\n",
    "grid_search_adaboost.fit(X_train_scaled, y_train_data)\n",
    "\n",
    "# the best parameters\n",
    "best_params_adaboost = grid_search_adaboost.best_params_\n",
    "\n",
    "print(\"The best parameters:\", best_params_adaboost)"
   ]
  },
  {
   "cell_type": "markdown",
   "metadata": {},
   "source": [
    "Test it with our train-test dataset."
   ]
  },
  {
   "cell_type": "code",
   "execution_count": 93,
   "metadata": {
    "execution": {
     "iopub.execute_input": "2024-04-06T21:22:16.270006Z",
     "iopub.status.busy": "2024-04-06T21:22:16.269599Z",
     "iopub.status.idle": "2024-04-06T21:22:16.828353Z",
     "shell.execute_reply": "2024-04-06T21:22:16.827213Z",
     "shell.execute_reply.started": "2024-04-06T21:22:16.269954Z"
    }
   },
   "outputs": [
    {
     "name": "stdout",
     "output_type": "stream",
     "text": [
      "Accuracy: 0.9066985645933014\n",
      "AUC: 0.9041353383458648\n",
      "Recall 0.8947368421052632\n",
      "Confusion Matrix:\n",
      " [[243  23]\n",
      " [ 16 136]]\n"
     ]
    },
    {
     "data": {
      "image/png": "[encoded data removed]",
      "text/plain": [
       "<Figure size 800x600 with 2 Axes>"
      ]
     },
     "metadata": {},
     "output_type": "display_data"
    }
   ],
   "source": [
    "# train the model\n",
    "best_adaboost = AdaBoostClassifier(**best_params_adaboost)\n",
    "best_adaboost.fit(X_train_scaled, y_train_data)\n",
    "y_pred = best_adaboost.predict(X_test_scaled)\n",
    "\n",
    "# evaluate the performance of model\n",
    "accuracy_adaboost1 = accuracy_score(y_submission, y_pred)\n",
    "auc_adaboost1 = roc_auc_score(y_submission, y_pred)\n",
    "recall_adaboost1 = recall_score(y_submission, y_pred)\n",
    "cm_adaboost1 = confusion_matrix(y_submission, y_pred)\n",
    "\n",
    "print(\"Accuracy:\", accuracy_adaboost1)\n",
    "print(\"AUC:\", auc_adaboost1)\n",
    "print(\"Recall\", recall_adaboost1)\n",
    "print(\"Confusion Matrix:\\n\", cm_adaboost1)\n",
    "\n",
    "# plot of confusion matrix\n",
    "plt.figure(figsize=(8, 6))\n",
    "plt.imshow(cm_adaboost1, interpolation='nearest', cmap='Reds')\n",
    "plt.colorbar()\n",
    "plt.xticks(np.arange(len(np.unique(y_submission))), np.unique(y_submission))\n",
    "plt.yticks(np.arange(len(np.unique(y_submission))), np.unique(y_submission))\n",
    "plt.xlabel('Predicted')\n",
    "plt.ylabel('Actual')\n",
    "plt.title('Confusion Matrix')\n",
    "plt.show()"
   ]
  },
  {
   "cell_type": "markdown",
   "metadata": {},
   "source": [
    "Let's do it again just for train dataset."
   ]
  },
  {
   "cell_type": "code",
   "execution_count": 94,
   "metadata": {
    "execution": {
     "iopub.execute_input": "2024-04-06T21:23:22.601469Z",
     "iopub.status.busy": "2024-04-06T21:23:22.600816Z",
     "iopub.status.idle": "2024-04-06T21:23:23.181792Z",
     "shell.execute_reply": "2024-04-06T21:23:23.180691Z",
     "shell.execute_reply.started": "2024-04-06T21:23:22.601438Z"
    }
   },
   "outputs": [
    {
     "name": "stdout",
     "output_type": "stream",
     "text": [
      "Accuracy: 0.8805970149253731\n",
      "AUC: 0.866167290886392\n",
      "Recall 0.8222222222222222\n",
      "Confusion Matrix:\n",
      " [[81  8]\n",
      " [ 8 37]]\n"
     ]
    },
    {
     "data": {
      "image/png": "[encoded data removed]",
      "text/plain": [
       "<Figure size 800x600 with 2 Axes>"
      ]
     },
     "metadata": {},
     "output_type": "display_data"
    }
   ],
   "source": [
    "# split the data\n",
    "X_train, X_test, y_train, y_test = train_test_split(X_train_scaled, y_train_data, test_size=best_params_logreg2['test_size'], random_state=best_params_logreg2['random_state'])\n",
    "\n",
    "# create the adaboost model\n",
    "best_adaboost = AdaBoostClassifier(**best_params_adaboost)\n",
    "best_adaboost.fit(X_train, y_train)\n",
    "y_pred = best_adaboost.predict(X_test)\n",
    "\n",
    "# evaluate the performance of model\n",
    "accuracy_adaboost2 = accuracy_score(y_test, y_pred)\n",
    "auc_adaboost2 = roc_auc_score(y_test, y_pred)\n",
    "recall_adaboost2 = recall_score(y_test, y_pred)\n",
    "cm_adaboost2 = confusion_matrix(y_test, y_pred)\n",
    "\n",
    "print(\"Accuracy:\", accuracy_adaboost2)\n",
    "print(\"AUC:\", auc_adaboost2)\n",
    "print(\"Recall\", recall_adaboost2)\n",
    "print(\"Confusion Matrix:\\n\", cm_adaboost2)\n",
    "\n",
    "# plot of confusion matrix\n",
    "plt.figure(figsize=(8, 6))\n",
    "plt.imshow(cm_adaboost2, interpolation='nearest', cmap='Reds')\n",
    "plt.colorbar()\n",
    "plt.xticks(np.arange(len(np.unique(y_test))), np.unique(y_test))\n",
    "plt.yticks(np.arange(len(np.unique(y_test))), np.unique(y_test))\n",
    "plt.xlabel('Predicted')\n",
    "plt.ylabel('Actual')\n",
    "plt.title('Confusion Matrix')\n",
    "plt.show()"
   ]
  },
  {
   "cell_type": "markdown",
   "metadata": {
    "execution": {
     "iopub.execute_input": "2024-04-05T12:47:33.906835Z",
     "iopub.status.busy": "2024-04-05T12:47:33.906310Z",
     "iopub.status.idle": "2024-04-05T12:47:33.915730Z",
     "shell.execute_reply": "2024-04-05T12:47:33.913740Z",
     "shell.execute_reply.started": "2024-04-05T12:47:33.906800Z"
    }
   },
   "source": [
    "As you can see, our model with train-test dataset is the best model for <code>AdaBoost</code> classifier.\n",
    "\n",
    "Right now, we are done with our models. Let's continue with our <code>comparison</code> part."
   ]
  },
  {
   "cell_type": "markdown",
   "metadata": {},
   "source": [
    "## Comparison\n",
    "\n",
    "We are done with our models right now. We create every model with their own parameters, we created two classifiers also. In every model, we create one classifier that works with train-test data together, and second one is the one that just works with our train dataset. It uses <code>train_test_split</code> to do it.\n",
    "\n",
    "Right now, we will compare our classifiers. We use <code>accuracy</code> and <code>AUC</code> scores to do it.\n",
    "\n",
    "Let's start with our train-test dataset models.\n",
    "\n",
    "We imported <code>matplotlib.pyplot</code> before, so we can start."
   ]
  },
  {
   "cell_type": "code",
   "execution_count": 96,
   "metadata": {
    "execution": {
     "iopub.execute_input": "2024-04-06T21:30:32.860016Z",
     "iopub.status.busy": "2024-04-06T21:30:32.859575Z",
     "iopub.status.idle": "2024-04-06T21:30:33.550135Z",
     "shell.execute_reply": "2024-04-06T21:30:33.549018Z",
     "shell.execute_reply.started": "2024-04-06T21:30:32.859945Z"
    }
   },
   "outputs": [
    {
     "data": {
      "image/png": "[encoded data removed]",
      "text/plain": [
       "<Figure size 1000x1000 with 2 Axes>"
      ]
     },
     "metadata": {},
     "output_type": "display_data"
    }
   ],
   "source": [
    "# models and results\n",
    "models = ['Logistic Regression', 'Ridge', 'Lasso', 'KNN', 'Bernoulli NB', \n",
    "          'Linear SVM', 'Polynomial SVM', 'Gaussian SVM', 'Decision Tree', \n",
    "          'Random Forest', 'AdaBoost']\n",
    "accuracy = [accuracy_logreg1, accuracy_ridge1, accuracy_lasso1, accuracy_knn1, accuracy_bayes1, accuracy_linear_svm1, accuracy_polynomial_svm1, accuracy_gauss_svm1, accuracy_dt1, accuracy_rf1, accuracy_adaboost1]\n",
    "auc = [auc_logreg1, auc_ridge1, auc_lasso1, auc_knn1, auc_bayes1, auc_linear_svm1, auc_polynomial_svm1, auc_gauss_svm1, auc_dt1, auc_rf1, auc_adaboost1]\n",
    "\n",
    "# plot\n",
    "plt.figure(figsize=(10, 10))\n",
    "\n",
    "# accuracy\n",
    "plt.subplot(2, 1, 1)\n",
    "plt.barh(models, accuracy, color='skyblue')\n",
    "plt.xlabel('Accuracy (%)')\n",
    "plt.title('Model Accuracy - Train & Test Dataset')\n",
    "\n",
    "# auc\n",
    "plt.subplot(2, 1, 2)\n",
    "plt.barh(models, auc, color='salmon')\n",
    "plt.xlabel('AUC (%)')\n",
    "plt.title('Model AUC - Train & Test Dataset')\n",
    "\n",
    "plt.tight_layout()\n",
    "plt.show()"
   ]
  },
  {
   "cell_type": "markdown",
   "metadata": {},
   "source": [
    "As you can see, the best one is <code>Linear SVM</code> model here. Its accuracy and AUC score is the best. So for this section, we can say it is the best one.\n",
    "\n",
    "Right now, we will do the same thing for our <code>just-train dataset</code> models. Let's start."
   ]
  },
  {
   "cell_type": "code",
   "execution_count": 97,
   "metadata": {
    "execution": {
     "iopub.execute_input": "2024-04-06T21:31:27.577889Z",
     "iopub.status.busy": "2024-04-06T21:31:27.576895Z",
     "iopub.status.idle": "2024-04-06T21:31:28.255816Z",
     "shell.execute_reply": "2024-04-06T21:31:28.254631Z",
     "shell.execute_reply.started": "2024-04-06T21:31:27.577855Z"
    }
   },
   "outputs": [
    {
     "data": {
      "image/png": "[encoded data removed]",
      "text/plain": [
       "<Figure size 1000x1000 with 2 Axes>"
      ]
     },
     "metadata": {},
     "output_type": "display_data"
    }
   ],
   "source": [
    "# models and results\n",
    "models = ['Logistic Regression', 'Ridge', 'Lasso', 'KNN', 'Bernoulli NB', \n",
    "          'Linear SVM', 'Polynomial SVM', 'Gaussian SVM', 'Decision Tree', \n",
    "          'Random Forest', 'AdaBoost']\n",
    "accuracy = [accuracy_logreg2, accuracy_ridge2, accuracy_lasso2, accuracy_knn2, accuracy_bayes2, accuracy_linear_svm2, accuracy_polynomial_svm2, accuracy_gauss_svm2, accuracy_dt2, accuracy_rf2, accuracy_adaboost2]\n",
    "auc = [auc_logreg2, auc_ridge2, auc_lasso2, auc_knn2, auc_bayes2, auc_linear_svm2, auc_polynomial_svm2, auc_gauss_svm2, auc_dt2, auc_rf2, auc_adaboost2]\n",
    "\n",
    "# plot\n",
    "plt.figure(figsize=(10, 10))\n",
    "\n",
    "# accuracy\n",
    "plt.subplot(2, 1, 1)\n",
    "plt.barh(models, accuracy, color='skyblue')\n",
    "plt.xlabel('Accuracy (%)')\n",
    "plt.title('Model Accuracy - Just Train Dataset')\n",
    "\n",
    "# auc\n",
    "plt.subplot(2, 1, 2)\n",
    "plt.barh(models, auc, color='salmon')\n",
    "plt.xlabel('AUC (%)')\n",
    "plt.title('Model AUC - Just Train Dataset')\n",
    "\n",
    "plt.tight_layout()\n",
    "plt.show()"
   ]
  },
  {
   "cell_type": "markdown",
   "metadata": {
    "execution": {
     "iopub.execute_input": "2024-04-06T07:24:29.453443Z",
     "iopub.status.busy": "2024-04-06T07:24:29.453006Z",
     "iopub.status.idle": "2024-04-06T07:24:29.462277Z",
     "shell.execute_reply": "2024-04-06T07:24:29.460638Z",
     "shell.execute_reply.started": "2024-04-06T07:24:29.453408Z"
    }
   },
   "source": [
    "For here, you can see <code>Random Forest</code> is the best model. It show the best performance if we see together its accuracy and AUC score.\n",
    "\n",
    "But the best model of this project is <code>Linear SVM</code> from our train-test dataset models. It has more train dataset than our just-train dataset models. So, it is normal.\n",
    "\n",
    "So, you reached the bottom part of this project. We trained lots of models. Every model has <code>train-test</code> and <code>just-train</code> dataset models. In the end, we compared them and selected the best one."
   ]
  },
  {
   "cell_type": "markdown",
   "metadata": {},
   "source": [
    "## Author\n",
    "\n",
    "### Mert Kont"
   ]
  }
 ],
 "metadata": {
  "kaggle": {
   "accelerator": "none",
   "dataSources": [
    {
     "databundleVersionId": 26502,
     "sourceId": 3136,
     "sourceType": "competition"
    }
   ],
   "dockerImageVersionId": 30673,
   "isGpuEnabled": false,
   "isInternetEnabled": true,
   "language": "python",
   "sourceType": "notebook"
  },
  "kernelspec": {
   "display_name": "Python 3 (ipykernel)",
   "language": "python",
   "name": "python3"
  },
  "language_info": {
   "codemirror_mode": {
    "name": "ipython",
    "version": 3
   },
   "file_extension": ".py",
   "mimetype": "text/x-python",
   "name": "python",
   "nbconvert_exporter": "python",
   "pygments_lexer": "ipython3",
   "version": "3.12.4"
  }
 },
 "nbformat": 4,
 "nbformat_minor": 4
}
